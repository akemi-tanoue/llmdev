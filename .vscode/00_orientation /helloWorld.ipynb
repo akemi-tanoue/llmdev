{
 "cells": [
  {
   "cell_type": "code",
   "execution_count": null,
   "id": "dc4023eb",
   "metadata": {},
   "outputs": [
    {
     "name": "stdout",
     "output_type": "stream",
     "text": [
      "Hello! World!\n",
      "こんにちは！ 世界！\n",
      "['David', 'Alice', 'Bob', 'Charlie']\n"
     ]
    }
   ],
   "source": [
    "print(\"Hello! World!\")\n",
    "\n",
    "print(\"こんにちは！ 世界！\")\n",
    "\n",
    "\n"
   ]
  }
 ],
 "metadata": {
  "kernelspec": {
   "display_name": ".venv (3.12.10)",
   "language": "python",
   "name": "python3"
  },
  "language_info": {
   "codemirror_mode": {
    "name": "ipython",
    "version": 3
   },
   "file_extension": ".py",
   "mimetype": "text/x-python",
   "name": "python",
   "nbconvert_exporter": "python",
   "pygments_lexer": "ipython3",
   "version": "3.12.10"
  }
 },
 "nbformat": 4,
 "nbformat_minor": 5
}
