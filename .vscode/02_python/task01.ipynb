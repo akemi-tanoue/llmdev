{
 "cells": [
  {
   "cell_type": "code",
   "execution_count": null,
   "id": "51457fcf",
   "metadata": {},
   "outputs": [
    {
     "name": "stdout",
     "output_type": "stream",
     "text": [
      "はじめまして、 田之上明美 と申します。\n",
      "年齢は 50 歳です。\n",
      "来年は 51 歳になります。よろしくお願いします。\n"
     ]
    }
   ],
   "source": [
    "# 自己紹介プログラムを作成してください。\n",
    "\n",
    "# 名前と年齢を格納する変数を用意して、値の代入を行ってください。\n",
    "# 上記の変数を使用して、自己紹介の内容を出力してください。\n",
    "# 実行結果の例：\n",
    "# 名前が 山田太郎 、年齢が 25 の場合の実行結果は以下のようになります。なお「来年の年齢」は、変数「年齢」を使って表示してください。\n",
    "\n",
    "# はじめまして、 山田太郎 と申します。\n",
    "# 年齢は 25 歳です。来年は 26 歳になります。\n",
    "# よろしくお願いします。\n",
    "\n",
    "name = \"田之上明美\"  # 名前\n",
    "age = 50      # 年齢\n",
    "\n",
    "print(f\"はじめまして、 {name} と申します。\\n年齢は {age} 歳です。来年は {age + 1} 歳になります。\\nよろしくお願いします。\") # ageに+1で来年の年齢を表示する"
   ]
  }
 ],
 "metadata": {
  "kernelspec": {
   "display_name": ".venv (3.12.10)",
   "language": "python",
   "name": "python3"
  },
  "language_info": {
   "codemirror_mode": {
    "name": "ipython",
    "version": 3
   },
   "file_extension": ".py",
   "mimetype": "text/x-python",
   "name": "python",
   "nbconvert_exporter": "python",
   "pygments_lexer": "ipython3",
   "version": "3.12.10"
  }
 },
 "nbformat": 4,
 "nbformat_minor": 5
}
