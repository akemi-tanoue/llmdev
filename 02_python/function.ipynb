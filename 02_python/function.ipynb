{
 "cells": [
  {
   "cell_type": "code",
   "execution_count": null,
   "id": "43027051",
   "metadata": {},
   "outputs": [],
   "source": [
    "print(\"Hello, Python!\")  # 出力: Hello, Python!\n",
    "print(123)               # 出力: 123\n",
    "print(\"test\", end=\"\", flush=True) # 出力: test\n",
    "print(\"test\", flush=True) # 出力: 前の行に続けて test"
   ]
  },
  {
   "cell_type": "code",
   "execution_count": null,
   "id": "ce81da64",
   "metadata": {},
   "outputs": [],
   "source": [
    "print(len(\"Python\"))     # 出力: 6（文字数）\n",
    "print(len([1, 2, 3, 4])) # 出力: 4（リストの要素数）\n"
   ]
  },
  {
   "cell_type": "code",
   "execution_count": null,
   "id": "a5e2b44a",
   "metadata": {},
   "outputs": [],
   "source": [
    "print(type(123))        # 出力: <class 'int'>\n",
    "print(type(\"Python\"))   # 出力: <class 'str'>\n",
    "print(type([1, 2, 3]))  # 出力: <class 'list'>"
   ]
  },
  {
   "cell_type": "code",
   "execution_count": null,
   "id": "c2677aa9",
   "metadata": {},
   "outputs": [],
   "source": [
    "print(max(5, 10, 20))         # 出力: 20\n",
    "print(min(5, 10, 20))         # 出力: 5\n",
    "print(max(\"a\", \"b\", \"c\"))     # 出力: 'c'\n",
    "print(min([1, 2, 3, 4, 5]))   # 出力: 1"
   ]
  },
  {
   "cell_type": "code",
   "execution_count": null,
   "id": "08c5e4a3",
   "metadata": {},
   "outputs": [],
   "source": [
    "print(sum([1, 2, 3, 4]))  # 出力: 10\n",
    "print(sum((10, 20, 30)))  # 出力: 60"
   ]
  },
  {
   "cell_type": "code",
   "execution_count": null,
   "id": "374c9b38",
   "metadata": {},
   "outputs": [],
   "source": [
    "for i in range(5):         # 出力: 0 1 2 3 4\n",
    "  print(i)\n",
    "print(list(range(1, 10, 2))) # 出力: [1, 3, 5, 7, 9]"
   ]
  }
 ],
 "metadata": {
  "kernelspec": {
   "display_name": ".venv (3.12.10)",
   "language": "python",
   "name": "python3"
  },
  "language_info": {
   "name": "python",
   "version": "3.12.10"
  }
 },
 "nbformat": 4,
 "nbformat_minor": 5
}
