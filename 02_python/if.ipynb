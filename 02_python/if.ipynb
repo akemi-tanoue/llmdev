{
 "cells": [
  {
   "cell_type": "code",
   "execution_count": 1,
   "id": "5c28a3a8",
   "metadata": {},
   "outputs": [
    {
     "name": "stdout",
     "output_type": "stream",
     "text": [
      "合格です\n",
      "処理を終了します\n"
     ]
    }
   ],
   "source": [
    "score = int(input(\"点数を入力してください: \"))\n",
    "\n",
    "if score >= 60:\n",
    "    print(\"合格です\")\n",
    "\n",
    "print(\"処理を終了します\")"
   ]
  },
  {
   "cell_type": "code",
   "execution_count": null,
   "id": "b6f683b2",
   "metadata": {},
   "outputs": [],
   "source": [
    "score = int(input(\"点数を入力してください: \"))\n",
    "\n",
    "if score >= 60:\n",
    "    print(\"合格です\")\n",
    "    print(\"おめでとうございます！\")\n",
    "else:\n",
    "    print(\"不合格です\")\n",
    "    print(\"もっとがんばりましょう\")\n",
    "\n",
    "print(\"処理を終了します\")"
   ]
  },
  {
   "cell_type": "code",
   "execution_count": null,
   "id": "5be15771",
   "metadata": {},
   "outputs": [],
   "source": [
    "score = int(input(\"点数を入力してください: \"))\n",
    "\n",
    "if score >= 90:\n",
    "    print(\"優秀です\")\n",
    "    print(\"大変よくできました！！\")\n",
    "\n",
    "elif score >= 60:\n",
    "    print(\"合格です\")\n",
    "    print(\"おめでとうございます！\")\n",
    "\n",
    "else:\n",
    "    print(\"不合格です\")\n",
    "    print(\"もっとがんばりましょう\")\n",
    "\n",
    "print(\"処理を終了します\")"
   ]
  },
  {
   "cell_type": "code",
   "execution_count": null,
   "id": "70bdcbb6",
   "metadata": {},
   "outputs": [],
   "source": [
    "score = 72  # 成績\n",
    "\n",
    "match score // 10:\n",
    "    case 10:\n",
    "        print(\"満点です！\")\n",
    "    case 9 | 8:\n",
    "        print(\"よくできました！\")\n",
    "    case 7 | 6:\n",
    "        print(\"合格です！\")\n",
    "    case _:\n",
    "        print(\"不合格です\")"
   ]
  },
  {
   "cell_type": "code",
   "execution_count": null,
   "id": "6ef44389",
   "metadata": {},
   "outputs": [],
   "source": [
    "score = 72  # 成績\n",
    "\n",
    "match score:\n",
    "    case score if score == 100:\n",
    "        print(\"満点です！\")\n",
    "    case score if score >= 80:\n",
    "        print(\"よくできました！\")\n",
    "    case score if score >= 60:\n",
    "        print(\"合格です！\")\n",
    "    case _:\n",
    "        print(\"赤点です。。。\")"
   ]
  },
  {
   "cell_type": "code",
   "execution_count": null,
   "id": "f75d29ea",
   "metadata": {},
   "outputs": [],
   "source": []
  },
  {
   "cell_type": "code",
   "execution_count": null,
   "id": "b41542a7",
   "metadata": {},
   "outputs": [],
   "source": []
  }
 ],
 "metadata": {
  "kernelspec": {
   "display_name": ".venv (3.12.10)",
   "language": "python",
   "name": "python3"
  },
  "language_info": {
   "codemirror_mode": {
    "name": "ipython",
    "version": 3
   },
   "file_extension": ".py",
   "mimetype": "text/x-python",
   "name": "python",
   "nbconvert_exporter": "python",
   "pygments_lexer": "ipython3",
   "version": "3.12.10"
  }
 },
 "nbformat": 4,
 "nbformat_minor": 5
}
