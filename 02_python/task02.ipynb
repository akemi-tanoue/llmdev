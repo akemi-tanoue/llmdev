{
 "cells": [
  {
   "cell_type": "code",
   "execution_count": null,
   "id": "b43d6fe0",
   "metadata": {},
   "outputs": [],
   "source": [
    "#税込価格が2000円以上の場合は送料無料、2000円未満の場合は350円とします。\n",
    "#消費税率は10%です。\n",
    "#税抜価格の入力には input() 関数を使用してください。\n",
    "#結果の表示にはf文字列を使用してください。\n",
    "\n",
    "\n",
    "amount = input(\"税抜価格を入力してください：\")\n",
    "amount = int(amount)  # 入力された値を整数に変換\n",
    "\n",
    "tax = amount * 0.10   # 税金10%を計算\n",
    "total = round(amount + tax)  # 税込価格を四捨五入\n",
    "\n",
    "if total >= 2000:#2000円以上\n",
    "  print(\"送料は無料です\")\n",
    "  print(f\"送料込税込価格は {total} 円です\")\n",
    "else: #if文と違い2000円以下\n",
    "  total = total + 350\n",
    "  print(\"送料として350円かかります\")\n",
    "  print(f\"送料込税込価格は {total} 円です\")"
   ]
  }
 ],
 "metadata": {
  "kernelspec": {
   "display_name": ".venv (3.12.10)",
   "language": "python",
   "name": "python3"
  },
  "language_info": {
   "codemirror_mode": {
    "name": "ipython",
    "version": 3
   },
   "file_extension": ".py",
   "mimetype": "text/x-python",
   "name": "python",
   "nbconvert_exporter": "python",
   "pygments_lexer": "ipython3",
   "version": "3.12.10"
  }
 },
 "nbformat": 4,
 "nbformat_minor": 5
}
