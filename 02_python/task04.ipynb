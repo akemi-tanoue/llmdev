{
 "cells": [
  {
   "cell_type": "markdown",
   "id": "208d1719",
   "metadata": {},
   "source": [
    "ユーザーに2つの数値を入力させ、それらを割り算するプログラムを作成してください。\n",
    "\n",
    "数値の代わりに文字を入力した場合は「エラー: 数値を入力してください」と表示します。\n",
    "割る数が0の場合は「エラー: 0で割ることはできません」と表示します。\n",
    "計算が正常に完了した場合、結果を表示してください。\n",
    "\n",
    "実行結果の例：\n",
    "1つ目の数を 100、2つ目の数を 10 と入力した場合\n",
    "計算結果: 10.0\n",
    "\n",
    "1つ目の数を 100、2つ目の数を 0 と入力した場合\n",
    "エラー: 0で割ることはできません\n",
    "\n",
    "1つ目の数を a と入力した場合\n",
    "エラー: 数値を入力してください\n",
    "\n",
    "1つ目の数を 100、2つ目の数を b と入力した場合\n",
    "エラー: 数値を入力してください"
   ]
  },
  {
   "cell_type": "code",
   "execution_count": null,
   "id": "7a500870",
   "metadata": {},
   "outputs": [],
   "source": [
    "try:\n",
    "  num = int(input(\"1つ目の数字を入力してください: \"))\n",
    "  num2 = int(input(\"2つ目の数字を入力してください: \"))\n",
    "  result = num / num2\n",
    "  print(f\"計算結果: {result} \")\n",
    "except ZeroDivisionError:\n",
    "  print(\"エラー: 0 で割ることはできません\")\n",
    "except ValueError:\n",
    "  print(\"エラー: 数値を入力してください\")"
   ]
  }
 ],
 "metadata": {
  "kernelspec": {
   "display_name": ".venv (3.12.10)",
   "language": "python",
   "name": "python3"
  },
  "language_info": {
   "codemirror_mode": {
    "name": "ipython",
    "version": 3
   },
   "file_extension": ".py",
   "mimetype": "text/x-python",
   "name": "python",
   "nbconvert_exporter": "python",
   "pygments_lexer": "ipython3",
   "version": "3.12.10"
  }
 },
 "nbformat": 4,
 "nbformat_minor": 5
}
