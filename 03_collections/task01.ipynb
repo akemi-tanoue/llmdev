{
 "cells": [
  {
   "cell_type": "markdown",
   "id": "90a7ec39",
   "metadata": {},
   "source": [
    "学生の成績をリストとして定義します。以下のソースコードを使用してください。\n",
    "grades = [85, 90, 78, 92, 88]\n",
    "成績のリストを使用して以下を行ってください。\n",
    "成績の平均点を計算します。\n",
    "成績の最高点と最低点を求めます。\n",
    "成績が平均以上の学生数をカウントします。\n",
    "結果を出力してください。"
   ]
  },
  {
   "cell_type": "code",
   "execution_count": 14,
   "id": "87ca3bbc",
   "metadata": {},
   "outputs": [
    {
     "name": "stdout",
     "output_type": "stream",
     "text": [
      "平均点: 86.6\n",
      "最高点: 92\n",
      "最低点: 78\n",
      "平均以上の学生数: 3\n"
     ]
    }
   ],
   "source": [
    "grades = [85, 90, 78, 92, 88]\n",
    "average = sum(grades) / len(grades) #リストの合計を出す、リストの数で割る\n",
    "print(f\"平均点: {average}\") #平均点を表示する\n",
    "\n",
    "highest = max(grades) #最大値をとる\n",
    "lowest = min(grades)  #最小値をとる\n",
    "print(f\"最高点: {highest}\") #最大値を表示する\n",
    "print(f\"最低点: {lowest}\") #最小値を表示する\n",
    "\n",
    "count = 0 #数えるための箱を用意して\n",
    "for score in grades: #gradesの中身をひとつずつ順番に取り出して\n",
    "    if score >= average: #平均以上かどうか\n",
    "        count += 1 #countに1を足す\n",
    "\n",
    "print(f\"平均以上の学生数: {count}\")"
   ]
  }
 ],
 "metadata": {
  "kernelspec": {
   "display_name": ".venv (3.12.10)",
   "language": "python",
   "name": "python3"
  },
  "language_info": {
   "codemirror_mode": {
    "name": "ipython",
    "version": 3
   },
   "file_extension": ".py",
   "mimetype": "text/x-python",
   "name": "python",
   "nbconvert_exporter": "python",
   "pygments_lexer": "ipython3",
   "version": "3.12.10"
  }
 },
 "nbformat": 4,
 "nbformat_minor": 5
}
