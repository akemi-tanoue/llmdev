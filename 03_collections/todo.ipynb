{
 "cells": [
  {
   "cell_type": "markdown",
   "id": "7e347734",
   "metadata": {},
   "source": [
    "プログラミング思考で仕様を整理しよう\n",
    "ソースコードを記述する前に、プログラム思考で仕様を整理してみましょう。以下の回答例を見る前に、ご自身でもチャレンジしてみてください。\n",
    "\n",
    "回答例：\n",
    "\n",
    "ファイル読み込み\n",
    "プログラム開始時に、todo_list.txtというファイルが存在すればその内容を読み込み、todo_listというリストに格納します。\n",
    "ファイルが存在しない場合は、新しいリストを作成します。\n",
    "メニューの表示\n",
    "番号を入力してください[1:追加、2:表示、4:保存と終了]\n",
    "1:TODOの追加\n",
    "「1」を入力すると、ユーザーからTODO項目を入力してもらい、リストに追加します。\n",
    "新規項目はプログラム終了まで保持され、終了時にファイルへ保存されます。\n",
    "2:TODOリストの表示\n",
    "「2」を入力すると、現在のTODOリストが番号付きで表示されます。\n",
    "リストが空の場合は何も表示されません。\n",
    "4:終了と保存\n",
    "「4」を入力すると、現在のTODOリストを todo_list.txt ファイルに書き込み、プログラムを終了します。\n",
    "このファイルは次回プログラム起動時に読み込まれます。\n",
    "以上でソースコードを記述する準備が整いました。"
   ]
  },
  {
   "cell_type": "code",
   "execution_count": null,
   "id": "ec9711c5",
   "metadata": {},
   "outputs": [],
   "source": [
    "# TODOリストを格納するリスト\n",
    "filename = \"todo_list.txt\"\n",
    "try:\n",
    "    # ファイルが存在したら内容を読込\n",
    "    with open(filename, \"r\", encoding=\"utf-8\") as file:\n",
    "        todo_list = [line.strip() for line in file]\n",
    "except FileNotFoundError:\n",
    "    # ファイルが存在しない場合は新しいリストを作成\n",
    "    todo_list = []\n",
    "\n",
    "# メニュー表示\n",
    "print(\"【TODOリスト】\")\n",
    "\n",
    "while True:\n",
    "    print(\"番号を入力してください[1:追加、2:表示、4:保存と終了]:\", end=\"\", flush=True)\n",
    "    choice = input(\"\")\n",
    "\n",
    "    if choice == \"1\":\n",
    "        print(\"1:追加\", flush=True)\n",
    "        add_todo = input(\"追加するTODO: \")\n",
    "        print(\"追加するTODO:\", add_todo, flush=True)\n",
    "        todo_list.append(add_todo)\n",
    "    elif choice == \"2\":\n",
    "        print(\"2:表示\", flush=True)\n",
    "        for i, todo in enumerate(todo_list):\n",
    "            print(f\"{i}. {todo}\")\n",
    "    elif choice == \"4\":\n",
    "        print(\"4:保存と終了\", flush=True)\n",
    "        with open(filename, \"w\", encoding=\"utf-8\") as file:\n",
    "            file.writelines(f\"{todo}\\n\" for todo in todo_list)\n",
    "        print(\"TODOリストを保存して終了します。\", flush=True)\n",
    "        break\n",
    "    else:\n",
    "        print(\"1-4の数字を入力してください。\", flush=True)"
   ]
  }
 ],
 "metadata": {
  "kernelspec": {
   "display_name": ".venv (3.12.10)",
   "language": "python",
   "name": "python3"
  },
  "language_info": {
   "name": "python",
   "version": "3.12.10"
  }
 },
 "nbformat": 4,
 "nbformat_minor": 5
}
