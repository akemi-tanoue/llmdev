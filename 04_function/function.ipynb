{
 "cells": [
  {
   "cell_type": "code",
   "execution_count": null,
   "id": "30711478",
   "metadata": {},
   "outputs": [],
   "source": [
    "def is_palindrome(s):\n",
    "    if s == s[::-1]:\n",
    "        print(f\"「{s}」は回文です！\")\n",
    "    else:\n",
    "        print(f\"「{s}」は回文ではないです。\")"
   ]
  },
  {
   "cell_type": "code",
   "execution_count": null,
   "id": "6ac8a2ec",
   "metadata": {},
   "outputs": [],
   "source": [
    "is_palindrome(\"にんてんどううどんてんに\")"
   ]
  },
  {
   "cell_type": "code",
   "execution_count": null,
   "id": "f8439ada",
   "metadata": {},
   "outputs": [],
   "source": [
    "def is_palindrome(s):\n",
    "    if s == s[::-1]:\n",
    "        print(f\"「{s}」は回文です！\")\n",
    "    else:\n",
    "        print(f\"「{s}」は回文ではないです。\")\n",
    "\n",
    "is_palindrome(\"にんてんどううどんてんに\")\n",
    "\n",
    "is_palindrome(\"Pythonは便利だが遅い\")\n",
    "\n",
    "is_palindrome(\"no devil lived on\")"
   ]
  },
  {
   "cell_type": "code",
   "execution_count": null,
   "id": "68d4eced",
   "metadata": {},
   "outputs": [],
   "source": [
    "def greet(name):\n",
    "    print(f\"こんにちは、{name}さん！\")"
   ]
  },
  {
   "cell_type": "code",
   "execution_count": null,
   "id": "98f09c54",
   "metadata": {},
   "outputs": [],
   "source": [
    "def introduce(name, age):\n",
    "    print(f\"こんにちは、{name}さん！ 年齢は{age}歳ですね。\")"
   ]
  },
  {
   "cell_type": "code",
   "execution_count": null,
   "id": "e709f763",
   "metadata": {},
   "outputs": [],
   "source": [
    "def introduce(name, age=18):\n",
    "    print(f\"こんにちは、{name}さん！ 年齢は{age}歳ですね。\")"
   ]
  },
  {
   "cell_type": "code",
   "execution_count": null,
   "id": "e5c8e31b",
   "metadata": {},
   "outputs": [],
   "source": [
    "introduce(\"太郎\")\n",
    "introduce(\"花子\", 25)"
   ]
  },
  {
   "cell_type": "code",
   "execution_count": null,
   "id": "765830ea",
   "metadata": {},
   "outputs": [],
   "source": [
    "def add(*args):\n",
    "    result = sum(args)\n",
    "    print(f\"合計:{result}\")\n",
    "\n",
    "add(1, 2, 3)\n",
    "add(5, 10, 15, 20)"
   ]
  },
  {
   "cell_type": "code",
   "execution_count": null,
   "id": "90e8bf20",
   "metadata": {},
   "outputs": [],
   "source": [
    "def introduce(**kwargs):\n",
    "    for key, value in kwargs.items():\n",
    "        print(f\"{key} : {value}\")\n",
    "\n",
    "introduce(name=\"太郎\", age=20, hobby=\"読書\")"
   ]
  },
  {
   "cell_type": "code",
   "execution_count": null,
   "id": "3defa06c",
   "metadata": {},
   "outputs": [],
   "source": [
    "def add(a, b):\n",
    "    result = a + b\n",
    "    return result"
   ]
  },
  {
   "cell_type": "code",
   "execution_count": null,
   "id": "866778c2",
   "metadata": {},
   "outputs": [],
   "source": [
    "total = add(3, 5)\n",
    "print(total)"
   ]
  }
 ],
 "metadata": {
  "language_info": {
   "name": "python"
  }
 },
 "nbformat": 4,
 "nbformat_minor": 5
}
