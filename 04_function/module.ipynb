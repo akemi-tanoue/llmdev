{
 "cells": [
  {
   "cell_type": "markdown",
   "id": "ea5953e2",
   "metadata": {},
   "source": [
    "math モジュール\n",
    "math モジュール は、数学計算を行うための機能を提供します。数学的な関数や定数が揃っているため、数値の計算や処理が必要な場合に役立ちます。\n",
    "\n",
    "よく使う機能と例：\n",
    "\n",
    "平方根を計算する: math.sqrt()\n",
    "指数を計算する: math.exp()（自然対数の底 e の指数関数）\n",
    "定数: math.pi（円周率）、math.e（自然対数の底）"
   ]
  },
  {
   "cell_type": "code",
   "execution_count": null,
   "id": "225a2d37",
   "metadata": {},
   "outputs": [],
   "source": [
    "import math\n",
    "\n",
    "# 平方根の計算\n",
    "print(math.sqrt(25))  # 5.0\n",
    "\n",
    "# 指数関数の計算\n",
    "print(math.exp(1))  # 2.718281828459045（自然対数の底 e）\n",
    "\n",
    "# 定数の使用\n",
    "print(math.pi)  # 3.141592653589793"
   ]
  },
  {
   "cell_type": "markdown",
   "id": "8a5bf6ff",
   "metadata": {},
   "source": [
    "datetime モジュール\n",
    "datetime モジュール は、日付や時刻を扱うための機能を提供します。現在の日付や時刻を取得したり、日付と時刻の差を計算したりする際に便利です。\n",
    "\n",
    "よく使う機能と例：\n",
    "\n",
    "現在の日付と時刻を取得する: datetime.datetime.now()\n",
    "特定の日付や時刻を作成する: datetime.datetime(year, month, day)\n",
    "日付の差を計算する: timedeltaオブジェクトを使って日付や時間の差を求める"
   ]
  },
  {
   "cell_type": "code",
   "execution_count": null,
   "id": "9bc9b5ca",
   "metadata": {},
   "outputs": [],
   "source": [
    "import datetime\n",
    "\n",
    "# 現在の日付と時刻を取得\n",
    "now = datetime.datetime.now()\n",
    "print(now)  # 出力例: 2024-10-30 15:52:21.412272\n",
    "\n",
    "# 特定の日付を作成\n",
    "birthday = datetime.datetime(1995, 5, 17)\n",
    "print(birthday)  # 1995-05-17 00:00:00\n",
    "\n",
    "# 日付の差を計算\n",
    "date1 = datetime.datetime(2023, 1, 1)\n",
    "date2 = datetime.datetime(2024, 1, 1)\n",
    "diff = date2 - date1\n",
    "print(diff.days)  # 365"
   ]
  },
  {
   "cell_type": "markdown",
   "id": "11c7ca50",
   "metadata": {},
   "source": [
    "random モジュール\n",
    "random モジュール は、ランダムな値を生成するための機能を提供します。ゲームやシミュレーション、データのシャッフルなど、ランダム性が必要な場面で便利です。\n",
    "\n",
    "よく使う機能と例：\n",
    "\n",
    "ランダムな数を生成: random.randint(start, end)（指定範囲の整数を返す）\n",
    "リストをシャッフル: random.shuffle()\n",
    "リストからランダムに選択: random.choice()"
   ]
  },
  {
   "cell_type": "code",
   "execution_count": null,
   "id": "351f7a66",
   "metadata": {},
   "outputs": [],
   "source": [
    "import random\n",
    "\n",
    "# ランダムな整数を生成\n",
    "print(random.randint(1, 10))  # 出力例: 5（1から10の間のランダムな整数）\n",
    "\n",
    "# リストをシャッフル\n",
    "my_list = [1, 2, 3, 4, 5]\n",
    "random.shuffle(my_list)\n",
    "print(my_list)  # 出力例: [3, 5, 2, 4, 1]（順番はランダム）\n",
    "\n",
    "# リストからランダムに要素を選択\n",
    "print(random.choice(my_list))  # 出力例: 1（リストからランダムに1つ選ばれる）"
   ]
  },
  {
   "cell_type": "markdown",
   "id": "5736526a",
   "metadata": {},
   "source": [
    "os モジュール\n",
    "os モジュール は、オペレーティングシステム（OS）とやり取りするための機能を提供します。ファイルやディレクトリの操作、パスの確認などに利用します。\n",
    "\n",
    "よく使う機能と例：\n",
    "\n",
    "カレントディレクトリ（作業ディレクトリ）を取得: os.getcwd()\n",
    "ディレクトリの作成: os.mkdir()\n",
    "ファイルの存在確認: os.path.exists()"
   ]
  },
  {
   "cell_type": "code",
   "execution_count": null,
   "id": "2c140427",
   "metadata": {},
   "outputs": [],
   "source": [
    "import os\n",
    "\n",
    "# カレントディレクトリの取得\n",
    "print(os.getcwd())  # 出力例: c:\\Users\\user1\\Downloads\\llmdev\\04_function\n",
    "\n",
    "# 新しいディレクトリを作成\n",
    "os.mkdir(\"new_folder\")\n",
    "\n",
    "# ファイルの存在確認\n",
    "print(os.path.exists(\"example.txt\"))  # True（ファイルが存在する場合）"
   ]
  },
  {
   "cell_type": "markdown",
   "id": "985803d6",
   "metadata": {},
   "source": [
    "urllib モジュール\n",
    "urllib モジュール は、Webリソースにアクセスするための機能を提供します。特に、Webページのデータを取得するために利用され、スクレイピングやAPIの呼び出しに役立ちます。\n",
    "\n",
    "よく使う機能と例：\n",
    "\n",
    "Webページのデータを取得する: urllib.request.urlopen()（指定したURLのデータを取得します）\n",
    "URLエンコード: urllib.parse.quote()（日本語などの特殊文字を含むURLをエンコードします）\n"
   ]
  },
  {
   "cell_type": "code",
   "execution_count": null,
   "id": "3c4910c9",
   "metadata": {},
   "outputs": [],
   "source": [
    "import urllib.request\n",
    "\n",
    "# URLを指定してデータを取得\n",
    "url = \"https://techacademy.jp\"\n",
    "response = urllib.request.urlopen(url)\n",
    "\n",
    "# HTMLデータを読み込み、UTF-8文字列にデコード\n",
    "html = response.read().decode(\"utf-8\")\n",
    "print(html[:500])  # 取得したHTMLの先頭500文字を表示"
   ]
  },
  {
   "cell_type": "markdown",
   "id": "6d853ef8",
   "metadata": {},
   "source": [
    "Macで「SSLCertVerificationError」が発生する場合：\n",
    "urllibをMacで使用すると、「SSLCertVerificationError」が発生する場合があります。原因はMacにあるSSL証明書というものが古いためです。エラーが発生した場合は、以下の手順で対応します。\n",
    "（1）VS Codeの「ターミナル」メニューから、「新しいターミナル」を開きます。\n",
    "（2）以下のコマンドを1行ずつ入力、実行します。\n",
    "入力するコマンド\n",
    "cd \"/Applications/Python 3.12\"\n",
    "sudo \"./Install Certificates.command\"\n",
    "（3）VS Codeのノートブックの「再起動」をクリックします。"
   ]
  },
  {
   "cell_type": "code",
   "execution_count": 1,
   "id": "6a22aeca",
   "metadata": {},
   "outputs": [
    {
     "name": "stdout",
     "output_type": "stream",
     "text": [
      "5 + 3 = 8\n",
      "10 - 4 = 6\n"
     ]
    }
   ],
   "source": [
    "import math_operations  # 自作モジュールをインポート\n",
    "\n",
    "# モジュール内の関数を使う\n",
    "result1 = math_operations.add(5, 3)\n",
    "result2 = math_operations.subtract(10, 4)\n",
    "\n",
    "print(\"5 + 3 =\", result1)       # 出力: 5 + 3 = 8\n",
    "print(\"10 - 4 =\", result2)      # 出力: 10 - 4 = 6"
   ]
  }
 ],
 "metadata": {
  "kernelspec": {
   "display_name": ".venv (3.12.10)",
   "language": "python",
   "name": "python3"
  },
  "language_info": {
   "codemirror_mode": {
    "name": "ipython",
    "version": 3
   },
   "file_extension": ".py",
   "mimetype": "text/x-python",
   "name": "python",
   "nbconvert_exporter": "python",
   "pygments_lexer": "ipython3",
   "version": "3.12.10"
  }
 },
 "nbformat": 4,
 "nbformat_minor": 5
}
