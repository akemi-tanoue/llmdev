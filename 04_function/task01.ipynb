{
 "cells": [
  {
   "cell_type": "markdown",
   "id": "83bd6606",
   "metadata": {},
   "source": [
    "関数の仕様：\n",
    "文字列を受け取り、バリデーションの結果をブール値で返す関数を作成してください。\n",
    "バリデーションのルールは以下です。\n",
    "ユーザー名は5文字以上15文字以内。条件を満たさない場合は エラー: ユーザー名は5文字以上15文字以内で入力してください と表示して False を返してください。\n",
    "ユーザー名に空白は使えない。含まれている場合は エラー: ユーザー名に空白を含めることはできません と表示して False を返してください。\n",
    "ユーザー名は英数字（アルファベットと数字）のみ使用可能。それ以外の文字が含まれている場合は エラー: ユーザー名は英数字のみ使用できます と表示して False を返してください。\n",
    "すべての条件を満たす場合は、Trueを返す（※成功メッセージは表示しない）。\n",
    "\n",
    "呼び出し側の仕様：\n",
    "ユーザーにユーザー名を入力させ、そのユーザー名が適切かを、上記のバリデーション関数で判定させてください。\n",
    "バリデーションの結果、条件を満たしていたら ユーザー名は有効です と表示、そうでなければ 不正なユーザー名です と表示してください。\n",
    "\n",
    "解き方のヒント\n",
    "文字数の長さは len() 関数が使えます。\n",
    "文字列に空白が含まれているかどうかは 文字 in 文字列 で判断できます。\n",
    "文字列が「英数字（アルファベットと数字）のみ」かどうかを判定するには、文字列.isalnum() メソッドが使えます。"
   ]
  },
  {
   "cell_type": "code",
   "execution_count": null,
   "id": "a11eaffd",
   "metadata": {},
   "outputs": [],
   "source": [
    "#関数の定義\n",
    "def validate_username(username: str) -> bool:\n",
    "  # ユーザー名の長さを調べる\n",
    "  length = len(username)\n",
    "\n",
    "  # 文字数チェック\n",
    "  if length < 5 or length > 15:\n",
    "    print(\"エラー: ユーザー名は5文字以上15文字以内で入力してください\")\n",
    "    return False\n",
    "\n",
    "  # 空白チェック（半角スペースがあるかどうか）\n",
    "  if \" \" in username:\n",
    "    print(\"エラー: ユーザー名に半角スペースを含めることはできません\")\n",
    "    return False\n",
    "\n",
    "  # 全角スペースチェック\n",
    "  if \"　\" in username:\n",
    "    print(\"エラー: ユーザー名に全角スペースを含めることはできません\")\n",
    "    return False\n",
    "\n",
    "  # 英数字チェック\n",
    "  if username.isalnum() == False:\n",
    "    print(\"エラー: ユーザー名は英数字のみ使用できます\")\n",
    "    return False\n",
    "\n",
    "  # すべての条件をクリアした場合\n",
    "  return True"
   ]
  },
  {
   "cell_type": "code",
   "execution_count": null,
   "id": "866952d9",
   "metadata": {},
   "outputs": [],
   "source": [
    "#呼び出し側のコード\n",
    "username = input(\"ユーザー名を入力してください: \")\n",
    "\n",
    "if validate_username(username):\n",
    "  print(\"ユーザー名は有効です\")\n",
    "else:\n",
    "  print(\"不正なユーザー名です\")"
   ]
  }
 ],
 "metadata": {
  "kernelspec": {
   "display_name": ".venv (3.12.10)",
   "language": "python",
   "name": "python3"
  },
  "language_info": {
   "codemirror_mode": {
    "name": "ipython",
    "version": 3
   },
   "file_extension": ".py",
   "mimetype": "text/x-python",
   "name": "python",
   "nbconvert_exporter": "python",
   "pygments_lexer": "ipython3",
   "version": "3.12.10"
  }
 },
 "nbformat": 4,
 "nbformat_minor": 5
}
