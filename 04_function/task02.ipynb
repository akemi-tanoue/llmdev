{
 "cells": [
  {
   "cell_type": "markdown",
   "id": "11e29c51",
   "metadata": {},
   "source": [
    "仕様\n",
    "関数の仕様：\n",
    "URLを引数として受け取り、Webページのコンテンツの先頭500文字を日時のファイル名で保存し、ファイル名を戻り値として返す save_url_content() 関数を作成してください。関数の仕様は以下です。\n",
    "\n",
    "指定したURLからデータを取得し、UTF-8形式でデコードしてから先頭500文字を取得します。\n",
    "保存するファイル名は現在の日時（例: 20241030_155221.txt）とし、.txt 拡張子で保存してください。\n",
    "データを取得したファイルへ保存するために、Pythonの標準ライブラリ datetime モジュールを使って日時をファイル名に含めてください。\n",
    "作成されたファイル名を関数の戻り値として返してください。\n",
    "呼び出し側の仕様：\n",
    "\n",
    "以下のソースコードで関数を呼び出して確認してください。\n",
    "\n",
    "url = input(\"URLを入力してください: \")\n",
    "file_name = save_url_content(url)\n",
    "print(f\"Content saved in: {file_name}\")\n",
    "\n",
    "解き方のヒント\n",
    "指定したURLのHTMLコンテンツの先頭500文字を取得し、保存するには、urllib.request.urlopen() を使うと便利です。データは .decode(\"utf-8\") で文字列に変換してから保存しましょう（このレッスンの「標準ライブラリの活用」を参考にしましょう）。\n",
    "Python - urllib.request モジュール - urlopen\n",
    "ファイルへの保存はレッスン3を参考にしましょう。\n"
   ]
  },
  {
   "cell_type": "code",
   "execution_count": null,
   "id": "3ada928b",
   "metadata": {},
   "outputs": [],
   "source": [
    "import urllib.request\n",
    "from datetime import datetime\n",
    "\n",
    "def save_url_content(url: str) -> str:\n",
    "\tresponse = urllib.request.urlopen(url)   #Webページにアクセス\n",
    "\thtml = response.read().decode(\"utf-8\")   #データを読み込み、utf-8に変更する\n",
    "\n",
    "\tsnippet = html[:500] #先頭の500文字を取り出す\n",
    "\n",
    "\tnow = datetime.now()                      #今の日時を取得末う\n",
    "\ttimestamp = now.strftime(\"%Y%m%d_%H%M%S\") #yyyymmdd_hhmmss\n",
    "\tfile_name = timestamp + \".txt\"            #ファイル名に .txt を付ける\n",
    "\n",
    "\tf = open(file_name, \"w\", encoding=\"utf-8\") #書き込みモードで開く\n",
    "\tf.write(snippet)                           #内容を書き込む\n",
    "\tf.close()                                  #ファイルを閉じる\n",
    "\n",
    "\treturn file_name\n"
   ]
  },
  {
   "cell_type": "code",
   "execution_count": null,
   "id": "ecd053a8",
   "metadata": {},
   "outputs": [],
   "source": [
    "#呼び出し側\n",
    "url = input(\"URLを入力してください: \")\n",
    "file_name = save_url_content(url)\n",
    "print(f\"Content saved in: {file_name}\")"
   ]
  }
 ],
 "metadata": {
  "kernelspec": {
   "display_name": ".venv (3.12.10)",
   "language": "python",
   "name": "python3"
  },
  "language_info": {
   "codemirror_mode": {
    "name": "ipython",
    "version": 3
   },
   "file_extension": ".py",
   "mimetype": "text/x-python",
   "name": "python",
   "nbconvert_exporter": "python",
   "pygments_lexer": "ipython3",
   "version": "3.12.10"
  }
 },
 "nbformat": 4,
 "nbformat_minor": 5
}
