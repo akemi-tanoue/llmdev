{
 "cells": [
  {
   "cell_type": "code",
   "execution_count": 40,
   "id": "4e1ef34e",
   "metadata": {},
   "outputs": [],
   "source": [
    "import feedparser\n",
    "import requests\n",
    "from bs4 import BeautifulSoup\n",
    "from openai import OpenAI\n",
    "from dotenv import load_dotenv\n",
    "import os\n",
    "\n",
    "#APIキーを読み込む\n",
    "load_dotenv(\".env\")\n",
    "api_key = os.getenv(\"API_KEY\")\n",
    "client = OpenAI(api_key=api_key)\n"
   ]
  },
  {
   "cell_type": "code",
   "execution_count": 41,
   "id": "b2f70937",
   "metadata": {},
   "outputs": [],
   "source": [
    "#デザイン系ブログのRSSから記事を取る\n",
    "FEED_URL = \"https://coliss.com/feed\"\n",
    "\n",
    "feed = feedparser.parse(FEED_URL)\n"
   ]
  },
  {
   "cell_type": "code",
   "execution_count": 42,
   "id": "19b40dff",
   "metadata": {},
   "outputs": [],
   "source": [
    "#記事の本文を取る関数\n",
    "def fetch_article_text(url):\n",
    "    res = requests.get(url, headers={\"User-Agent\": \"MyScraper/1.0\"})\n",
    "    soup = BeautifulSoup(res.text, \"html.parser\")\n",
    "    # とりあえず<p>タグのテキストを全部まとめてみる\n",
    "    paragraphs = [p.get_text() for p in soup.find_all(\"p\")]\n",
    "    text = \"\\n\".join(paragraphs)\n",
    "    return text\n"
   ]
  },
  {
   "cell_type": "code",
   "execution_count": 43,
   "id": "a22aac3f",
   "metadata": {},
   "outputs": [],
   "source": [
    "#LLMで要約する関数\n",
    "def summarize_with_llm(title, content):\n",
    "    prompt = f\"\"\"\n",
    "あなたは記事を要約するアシスタントです。\n",
    "次の記事を読んで、\n",
    "1) 要点を3つ（箇条書き）\n",
    "2) 学べることを1〜2文\n",
    "にまとめてください。\n",
    "\n",
    "【記事タイトル】\n",
    "{title}\n",
    "\n",
    "【本文】\n",
    "{content[:1000]}  #先頭だけ取る\n",
    "\"\"\"\n",
    "    resp = client.chat.completions.create(\n",
    "        model=\"gpt-4o-mini\",\n",
    "        messages=[{\"role\": \"user\", \"content\": prompt}],\n",
    "        temperature=0.2,\n",
    "    )\n",
    "    return resp.choices[0].message.content\n"
   ]
  },
  {
   "cell_type": "code",
   "execution_count": 44,
   "id": "6d367662",
   "metadata": {},
   "outputs": [
    {
     "name": "stdout",
     "output_type": "stream",
     "text": [
      "記事タイトル: これは助かる！ AIエディタ Cursorから公式の日本語ドキュメントがローンチ、要注目のポイントを解説\n",
      "URL: https://coliss.com/articles/build-websites/operation/work/cursor-official-docs.html\n",
      "\n",
      "--- 要約結果 ---\n",
      "1) 要点\n",
      "- AIエディタCursorの公式日本語ドキュメントがローンチされ、12言語に対応している。\n",
      "- 検索機能が高速化され、ユーザーインターフェースが改善されている。\n",
      "- Model Context Protocol (MCP)を利用することで、外部ツールやデータソースとの接続が容易になった。\n",
      "\n",
      "2) 学べること\n",
      "Cursorの公式ドキュメントの日本語版が登場したことで、より多くのユーザーが使いやすくなり、効率的に情報を得られるようになった。特に、検索機能やインターフェースの改善は、ユーザー体験を向上させる重要な要素である。\n",
      "記事タイトル: セール期間は明日まで！ イラスト、同人誌、ゲームなど、創作に役立つ資料や辞典がKindle本 読書の秋セールでお買い得です\n",
      "URL: https://coliss.com/articles/products/kindle-sales-20250924.html\n",
      "\n",
      "--- 要約結果 ---\n",
      "1) 要点\n",
      "- Kindle本の「読書の秋セール」で、イラストや同人誌、ゲーム制作に役立つ資料や辞典が最大70％OFFで販売中。\n",
      "- セールは明日9月25日までで、対象の本はファンタジー衣装や歴史・文化、SFに関する事典が含まれている。\n",
      "- これらの資料は、シナリオ作りやキャラクターデザインに役立つ情報を辞典形式で提供している。\n",
      "\n",
      "2) 学べること\n",
      "このセールを利用することで、創作活動に必要な知識や資料を手に入れ、作品のクオリティを向上させることができる。特に、ファンタジーやSFの設定を深めるための参考資料が豊富に揃っている。\n",
      "記事タイトル: Kindle本 読書の秋セールが開催！ セール初登場もたくさんあり、Web制作やUIデザイン、イラスト書がかなりお買い得です\n",
      "URL: https://coliss.com/articles/products/kindle-sales-20250922.html\n",
      "\n",
      "--- 要約結果 ---\n",
      "1) 要点\n",
      "- Kindle本の「読書の秋セール」が開催中で、Web制作やデザイン関連の書籍が最大70％OFF。\n",
      "- セール期間は9月25日までで、Kindle Unlimitedが3ヵ月無料になるキャンペーンも実施中。\n",
      "- 注目の書籍として、配色アイデア手帖『日本の美しい色と言葉 第2版』が半額で提供されており、特典も充実している。\n",
      "\n",
      "2) 学べること\n",
      "このセールを利用することで、デザインやWeb制作に関する知識をお得に深めることができる。また、伝統的な日本の色彩感覚を学ぶ良い機会にもなります。\n",
      "記事が見つかりませんでした。\n"
     ]
    }
   ],
   "source": [
    "# 最新のfeedを再取得\n",
    "r = requests.get(FEED_URL, timeout=10, headers={\"User-Agent\": \"MyScraper/1.0\"})\n",
    "feed = feedparser.parse(r.text)\n",
    "\n",
    "N = 2\n",
    "\n",
    "for entry in feed.entries[:3]:  #上位3件を取得する\n",
    "    title = getattr(entry, \"title\", \"(no title)\")\n",
    "    url   = getattr(entry, \"link\", \"\")\n",
    "\n",
    "    print(\"記事タイトル:\", title)\n",
    "    print(\"URL:\", url)\n",
    "\n",
    "    content = fetch_article_text(url) if url else \"\"\n",
    "    if not content.strip():\n",
    "        summary_text = BeautifulSoup(getattr(entry, \"summary\", \"\"), \"html.parser\").get_text()\n",
    "        content = summary_text or \"(本文なし)\"\n",
    "\n",
    "    summary = summarize_with_llm(title, content)\n",
    "    print(\"\\n--- 要約結果 ---\")\n",
    "    print(summary)\n",
    "\n",
    "else:\n",
    "    print(\"記事が見つかりませんでした。\")\n"
   ]
  }
 ],
 "metadata": {
  "kernelspec": {
   "display_name": ".venv (3.12.10)",
   "language": "python",
   "name": "python3"
  },
  "language_info": {
   "codemirror_mode": {
    "name": "ipython",
    "version": 3
   },
   "file_extension": ".py",
   "mimetype": "text/x-python",
   "name": "python",
   "nbconvert_exporter": "python",
   "pygments_lexer": "ipython3",
   "version": "3.12.10"
  }
 },
 "nbformat": 4,
 "nbformat_minor": 5
}
