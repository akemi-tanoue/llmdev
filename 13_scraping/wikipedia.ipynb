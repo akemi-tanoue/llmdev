{
 "cells": [
  {
   "cell_type": "code",
   "execution_count": 6,
   "id": "80c8594f",
   "metadata": {},
   "outputs": [],
   "source": [
    "import requests\n",
    "\n",
    "# Wikipedia日本語版のAPIエンドポイント\n",
    "WIKI_API_URL = \"https://ja.wikipedia.org/w/api.php\"\n",
    "\n",
    "# 共通セッション（User-Agent を明示）\n",
    "session = requests.Session()\n",
    "session.headers.update({\n",
    "    # 自分のアプリ名や連絡先URL/メールを入れるとさらに親切\n",
    "    \"User-Agent\": \"MyWikiClient/1.0 (example@example.com)\"\n",
    "})\n",
    "\n",
    "# 検索キーワードに該当するWikipediaページを取得する関数\n",
    "def fetch_search_results(keyword, limit=10):\n",
    "    params = {\n",
    "        \"action\": \"query\",\n",
    "        \"list\": \"search\",\n",
    "        \"srsearch\": keyword,\n",
    "        \"format\": \"json\",\n",
    "        \"formatversion\": 2,   # ← これで扱いやすいJSONに\n",
    "        \"srlimit\": limit\n",
    "    }\n",
    "\n",
    "    resp = session.get(WIKI_API_URL, params=params, timeout=10)\n",
    "    resp.raise_for_status()\n",
    "    data = resp.json()\n",
    "    return data.get(\"query\", {}).get(\"search\", [])\n",
    "\n",
    "# 指定されたタイトルのページ内容を取得する関数\n",
    "def fetch_page_content(title):\n",
    "    params = {\n",
    "        \"action\": \"query\",\n",
    "        \"format\": \"json\",\n",
    "        \"formatversion\": 2,   # ← pages が配列に\n",
    "        \"titles\": title,\n",
    "        \"prop\": \"extracts\",\n",
    "        \"explaintext\": 1,     # ← True ではなく 1 推奨\n",
    "        \"redirects\": 1        # ← リダイレクトも追従\n",
    "    }\n",
    "\n",
    "    resp = session.get(WIKI_API_URL, params=params, timeout=10)\n",
    "    resp.raise_for_status()\n",
    "    data = resp.json()\n",
    "    pages = data.get(\"query\", {}).get(\"pages\", [])\n",
    "    if not pages:\n",
    "        return \"ページ内容が見つかりません。\"\n",
    "    page = pages[0]\n",
    "    return page.get(\"extract\", \"ページ内容が見つかりません。\")"
   ]
  },
  {
   "cell_type": "code",
   "execution_count": 7,
   "id": "2ab63b6d",
   "metadata": {},
   "outputs": [
    {
     "name": "stdout",
     "output_type": "stream",
     "text": [
      "【キーワードに該当するページ一覧】\n",
      "- Python\n",
      "- モンティ・パイソン\n",
      "- IronPython\n",
      "\n",
      "【最初のページタイトル】\n",
      "Python\n",
      "\n",
      "【ページ内容】\n",
      "Python（パイソン）はインタープリタ型の高水準汎用プログラミング言語である。\n",
      "\n",
      "\n",
      "== 概要 ==\n",
      "Pythonは1991年にグイド・ヴァン・ロッサムにより開発されたプログラミング言語である。\n",
      "最初にリリースされたPythonの設計哲学は、ホワイトスペース（オフサイドルール）の顕著な使用によってコードの可読性を重視している。その言語構成とオブジェクト指向のアプローチは、プログラマが小規模なプロジェクトから大規模なプロジェクトまで、明確で論理的なコードを書くのを支援することを目的としている。\n",
      "Pythonは動的に型付けされていて、ガベージコレクションされている。構造化（特に手続き型）、オブジェクト指向、関数型プログラミングを含む複数のプログラミングパラダイムをサポートしている。Pythonは、その包括的な標準ライブラリのため、しばしば「バッテリーを含む」言語と表現されている。\n",
      "Pythonのインタプリタは多くのOSに対応している。プログラマーのグローバルコミュニティは、自由かつオープンソース  のリファレンス実装であるCPythonを開発および保守している 。非営利団体であるPyth\n"
     ]
    }
   ],
   "source": [
    "# テストコードで確認\n",
    "keyword = \"Python\"\n",
    "\n",
    "# キーワードに該当するページ一覧を取得\n",
    "search_results = fetch_search_results(keyword)\n",
    "if search_results:\n",
    "    print(\"【キーワードに該当するページ一覧】\")\n",
    "    for result in search_results[:3]:\n",
    "        print(f\"- {result['title']}\")\n",
    "\n",
    "    # 最初のページタイトルを取得\n",
    "    first_title = search_results[0][\"title\"]\n",
    "    print(\"\\n【最初のページタイトル】\")\n",
    "    print(first_title)\n",
    "\n",
    "    # 最初のページの内容を取得\n",
    "    page_content = fetch_page_content(first_title)\n",
    "    print(\"\\n【ページ内容】\")\n",
    "    print(page_content[:500])\n",
    "else:\n",
    "    print(\"検索結果が見つかりません。\")"
   ]
  },
  {
   "cell_type": "code",
   "execution_count": 8,
   "id": "e8132885",
   "metadata": {},
   "outputs": [],
   "source": [
    "# 必要なモジュールをインポート\n",
    "import os\n",
    "from dotenv import load_dotenv\n",
    "from openai import OpenAI\n",
    "\n",
    "# 環境変数の取得\n",
    "load_dotenv(\"../.env\")\n",
    "\n",
    "# OpenAI APIクライアントを生成\n",
    "client = OpenAI(api_key=os.environ['API_KEY'])\n",
    "\n",
    "# モデル名\n",
    "MODEL_NAME = \"gpt-4o-mini\""
   ]
  },
  {
   "cell_type": "code",
   "execution_count": 9,
   "id": "c3bc1219",
   "metadata": {},
   "outputs": [],
   "source": [
    "# 要約を行うプロンプトを作成\n",
    "prompt = f\"\"\"\n",
    "以下の文章を要約してください。\n",
    "\n",
    "# 条件：\n",
    "- 小学生にもわかるように\n",
    "- 300文字程度\n",
    "\n",
    "# 文章：\n",
    "{page_content[:1000]}\n",
    "\"\"\"\n",
    "\n",
    "# APIへリクエスト\n",
    "response = client.chat.completions.create(\n",
    "    model=MODEL_NAME,\n",
    "    messages=[\n",
    "        {\"role\": \"user\", \"content\": prompt},\n",
    "    ],\n",
    "    max_tokens=500,\n",
    "    temperature=0.3\n",
    ")"
   ]
  },
  {
   "cell_type": "code",
   "execution_count": 10,
   "id": "5503c235",
   "metadata": {},
   "outputs": [
    {
     "name": "stdout",
     "output_type": "stream",
     "text": [
      "Python（パイソン）は、1991年にグイド・ヴァン・ロッサムによって作られたプログラミング言語です。この言語は、コードが読みやすくなるように設計されています。Pythonは、いろいろなプログラミングのスタイルをサポートしていて、小さなプロジェクトから大きなプロジェクトまで使えます。また、Pythonは「バッテリーを含む」と呼ばれるほど、たくさんの便利な機能が最初から用意されています。\n",
      "\n",
      "Pythonは、動的に型付けされていて、プログラムを実行するために特別なソフトウェア（インタプリタ）が必要です。プログラマーたちは、Pythonを自由に使えるように開発し続けています。Pythonの特徴は、シンプルで効率的なコードを書くことができる点です。基本的な機能は最小限に抑えられていて、必要な追加機能はインターネットからダウンロードできます。Pythonの考え方は、「一つのことをするのに、良いやり方が一つある」というものです。\n"
     ]
    }
   ],
   "source": [
    "# LLMからの回答を表示\n",
    "print(response.choices[0].message.content.strip())"
   ]
  }
 ],
 "metadata": {
  "kernelspec": {
   "display_name": ".venv (3.12.10)",
   "language": "python",
   "name": "python3"
  },
  "language_info": {
   "codemirror_mode": {
    "name": "ipython",
    "version": 3
   },
   "file_extension": ".py",
   "mimetype": "text/x-python",
   "name": "python",
   "nbconvert_exporter": "python",
   "pygments_lexer": "ipython3",
   "version": "3.12.10"
  }
 },
 "nbformat": 4,
 "nbformat_minor": 5
}
