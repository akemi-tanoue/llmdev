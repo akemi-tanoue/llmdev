{
 "cells": [
  {
   "cell_type": "code",
   "execution_count": 1,
   "id": "717a580a",
   "metadata": {},
   "outputs": [],
   "source": [
    "# 必要なモジュールをインポート\n",
    "import os\n",
    "from dotenv import load_dotenv\n",
    "from langchain_openai import ChatOpenAI\n",
    "\n",
    "# 環境変数の読み込み\n",
    "load_dotenv(\"../.env\")\n",
    "os.environ['OPENAI_API_KEY'] = os.environ['API_KEY']\n",
    "\n",
    "# モデル名\n",
    "MODEL_NAME = \"gpt-4o-mini\""
   ]
  },
  {
   "cell_type": "code",
   "execution_count": 2,
   "id": "889b2c9a",
   "metadata": {},
   "outputs": [],
   "source": [
    "from typing import Annotated\n",
    "from typing_extensions import TypedDict\n",
    "from langgraph.graph import StateGraph\n",
    "from langgraph.graph.message import add_messages\n",
    "\n",
    "# ステートの定義\n",
    "class State(TypedDict):\n",
    "    # データを保存する属性\n",
    "    messages: Annotated[list, add_messages]\n",
    "\n",
    "# ステートグラフの作成\n",
    "graph_builder = StateGraph(State)"
   ]
  },
  {
   "cell_type": "code",
   "execution_count": 3,
   "id": "191348dd",
   "metadata": {},
   "outputs": [],
   "source": [
    "# ステートの定義\n",
    "class State(TypedDict):\n",
    "    # データを保存する属性\n",
    "    messages: Annotated[list, add_messages]"
   ]
  },
  {
   "cell_type": "code",
   "execution_count": 4,
   "id": "31fef83d",
   "metadata": {},
   "outputs": [],
   "source": [
    "# 言語モデルの定義\n",
    "llm = ChatOpenAI(model_name=MODEL_NAME)\n",
    "\n",
    "# チャットボットノードの作成\n",
    "def chatbot(state: State):\n",
    "    return {\"messages\": [llm.invoke(state[\"messages\"])]}\n",
    "\n",
    "# グラフにチャットボットノードを追加\n",
    "graph_builder.add_node(\"chatbot\", chatbot)\n",
    "\n",
    "# 開始ノードの指定\n",
    "graph_builder.set_entry_point(\"chatbot\")\n",
    "# 終了ノードの指定\n",
    "graph_builder.set_finish_point(\"chatbot\")\n",
    "\n",
    "# 実行可能なステートグラフの作成\n",
    "graph = graph_builder.compile()"
   ]
  },
  {
   "cell_type": "code",
   "execution_count": 5,
   "id": "4a1a7a5e",
   "metadata": {},
   "outputs": [
    {
     "name": "stdout",
     "output_type": "stream",
     "text": [
      "{'messages': [HumanMessage(content='光の三原色は？', additional_kwargs={}, response_metadata={}, id='86a4398b-c492-4e95-a314-7d3290eb9882'), AIMessage(content='光の三原色は、赤（Red）、緑（Green）、青（Blue）です。これらの色を組み合わせることで、さまざまな色を作り出すことができます。この原理は、ディスプレイや照明などのデジタル技術で広く使用されています。', additional_kwargs={'refusal': None}, response_metadata={'token_usage': {'completion_tokens': 73, 'prompt_tokens': 14, 'total_tokens': 87, 'completion_tokens_details': {'accepted_prediction_tokens': 0, 'audio_tokens': 0, 'reasoning_tokens': 0, 'rejected_prediction_tokens': 0}, 'prompt_tokens_details': {'audio_tokens': 0, 'cached_tokens': 0}}, 'model_name': 'gpt-4o-mini-2024-07-18', 'system_fingerprint': 'fp_560af6e559', 'finish_reason': 'stop', 'logprobs': None}, id='run--95a2df45-5424-49f5-a120-5f88a8849607-0', usage_metadata={'input_tokens': 14, 'output_tokens': 73, 'total_tokens': 87, 'input_token_details': {'audio': 0, 'cache_read': 0}, 'output_token_details': {'audio': 0, 'reasoning': 0}})]}\n"
     ]
    }
   ],
   "source": [
    "# グラフの実行\n",
    "response = graph.invoke({\"messages\": [(\"user\", \"光の三原色は？\")]})\n",
    "\n",
    "# 結果の表示\n",
    "print(response)"
   ]
  },
  {
   "cell_type": "code",
   "execution_count": 6,
   "id": "b0a500db",
   "metadata": {},
   "outputs": [
    {
     "name": "stdout",
     "output_type": "stream",
     "text": [
      "光の三原色は、赤（Red）、緑（Green）、青（Blue）です。これらの色を組み合わせることで、さまざまな色を作り出すことができます。この原理は、ディスプレイや照明などのデジタル技術で広く使用されています。\n"
     ]
    }
   ],
   "source": [
    "# 言語モデルからの回答のみを表示\n",
    "print(response[\"messages\"][-1].content)"
   ]
  },
  {
   "cell_type": "code",
   "execution_count": 8,
   "id": "36e0b0e5",
   "metadata": {},
   "outputs": [
    {
     "name": "stdout",
     "output_type": "stream",
     "text": [
      "質問: 光の三原色は？\n",
      "回答: 光の三原色は、赤（Red）、緑（Green）、青（Blue）です。これらの色を組み合わせることで、さまざまな色を作り出すことができます。この原理は、特にディスプレイや照明などの光の表現において重要です。\n",
      "質問: こんにちは！\n",
      "回答: こんにちは！どういったことをお話ししましょうか？\n",
      "質問: aで始まる英単語を5つ教えて\n",
      "回答: もちろんです！以下は「a」で始まる英単語5つです：\n",
      "\n",
      "1. Apple（リンゴ）\n",
      "2. Amazing（驚くべき）\n",
      "3. Adventure（冒険）\n",
      "4. Artist（アーティスト）\n",
      "5. Animal（動物）\n",
      "\n",
      "他にも知りたい単語があれば教えてください！\n",
      "質問: 3つ目の英単語は何ですか？\n",
      "回答: 「3つ目の英単語」というのは具体的に何を指しているかによりますが、一般的な英単語のリストから3番目の単語を知りたいのであれば、例えば「apple」「banana」「cherry」といった単語がある場合、3つ目は「cherry」になります。ただし、特定のリストや文脈がないと正確にお答えすることは難しいです。具体的なリストやテーマがあれば教えてください。\n",
      "ありがとうございました!\n"
     ]
    }
   ],
   "source": [
    "# グラフの実行と結果の表示\n",
    "def stream_graph_updates(user_input: str):\n",
    "    # 結果をストリーミングで得る\n",
    "    events = graph.stream({\"messages\": [(\"user\", user_input)]})\n",
    "    for event in events:\n",
    "        for value in event.values():\n",
    "            print(\"回答:\", value[\"messages\"][-1].content, flush=True)\n",
    "\n",
    "# チャットボットのループ\n",
    "while True:\n",
    "    user_input = input(\"質問:\")\n",
    "    if user_input.strip()==\"\":\n",
    "        print(\"ありがとうございました!\")\n",
    "        break\n",
    "    print(\"質問:\", user_input, flush=True)\n",
    "    stream_graph_updates(user_input)"
   ]
  },
  {
   "cell_type": "code",
   "execution_count": 9,
   "id": "73e3feaa",
   "metadata": {},
   "outputs": [],
   "source": [
    "from langgraph.checkpoint.memory import MemorySaver\n",
    "\n",
    "# チェックポインタの作成\n",
    "memory = MemorySaver()\n",
    "\n",
    "# 記憶を持つ実行可能なステートグラフの作成\n",
    "memory_graph = graph_builder.compile(checkpointer=memory)"
   ]
  },
  {
   "cell_type": "code",
   "execution_count": 10,
   "id": "0acd5e35",
   "metadata": {},
   "outputs": [
    {
     "name": "stdout",
     "output_type": "stream",
     "text": [
      "こんにちは！\n",
      "こんにちは！どのようにお手伝いできますか？\n",
      "aで始まる英単語を5つ教えて\n",
      "もちろんです！以下は「a」で始まる英単語の例です：\n",
      "\n",
      "1. apple（リンゴ）\n",
      "2. animal（動物）\n",
      "3. amazing（驚くべき）\n",
      "4. adventure（冒険）\n",
      "5. artist（アーティスト）\n",
      "\n",
      "他に知りたい単語や情報があれば教えてください！\n",
      "4つ目の英単語は何ですか？\n",
      "4つ目の英単語は「adventure」です。意味は「冒険」です。他に何か知りたいことがあれば教えてください！\n",
      "ありがとうございました!\n"
     ]
    }
   ],
   "source": [
    "# グラフの実行と結果の表示\n",
    "def stream_graph_updates(user_input: str):\n",
    "    events = memory_graph.stream(\n",
    "        {\"messages\": [(\"user\", user_input)]},\n",
    "        {\"configurable\": {\"thread_id\": \"1\"}},\n",
    "        stream_mode=\"values\")\n",
    "    # 結果をストリーミングで得る\n",
    "    for event in events:\n",
    "        print(event[\"messages\"][-1].content, flush=True)\n",
    "\n",
    "# チャットボットのループ\n",
    "while True:\n",
    "    user_input = input(\"質問:\")\n",
    "    if user_input.strip()==\"\":\n",
    "        print(\"ありがとうございました!\")\n",
    "        break\n",
    "    stream_graph_updates(user_input)"
   ]
  }
 ],
 "metadata": {
  "kernelspec": {
   "display_name": ".venv (3.12.10)",
   "language": "python",
   "name": "python3"
  },
  "language_info": {
   "codemirror_mode": {
    "name": "ipython",
    "version": 3
   },
   "file_extension": ".py",
   "mimetype": "text/x-python",
   "name": "python",
   "nbconvert_exporter": "python",
   "pygments_lexer": "ipython3",
   "version": "3.12.10"
  }
 },
 "nbformat": 4,
 "nbformat_minor": 5
}
