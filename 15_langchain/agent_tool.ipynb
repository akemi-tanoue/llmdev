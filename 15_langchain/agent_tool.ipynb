{
 "cells": [
  {
   "cell_type": "code",
   "execution_count": 12,
   "id": "2d9ea860",
   "metadata": {},
   "outputs": [],
   "source": [
    "# 必要なモジュールをインポート\n",
    "import os\n",
    "from dotenv import load_dotenv\n",
    "from langchain_openai import ChatOpenAI\n",
    "\n",
    "# 環境変数の読み込み\n",
    "load_dotenv(\"../.env\")\n",
    "os.environ['OPENAI_API_KEY'] = os.environ['API_KEY']\n",
    "\n",
    "# モデル名\n",
    "MODEL_NAME = \"gpt-4o-mini\""
   ]
  },
  {
   "cell_type": "code",
   "execution_count": 13,
   "id": "3c9f0a34",
   "metadata": {},
   "outputs": [],
   "source": [
    "# 検索ツールの定義\n",
    "from langchain_community.tools.tavily_search import TavilySearchResults\n",
    "\n",
    "tool = TavilySearchResults(max_results=2)\n",
    "tools = [tool]"
   ]
  },
  {
   "cell_type": "code",
   "execution_count": 14,
   "id": "d5e84eb3",
   "metadata": {},
   "outputs": [
    {
     "data": {
      "text/plain": [
       "[{'url': 'https://www.genspark.ai/spark/langgraph%E3%81%AE%E3%83%8E%E3%83%BC%E3%83%89%E3%81%AE%E5%87%BA%E5%8A%9B%E5%9E%8B%E3%81%AB%E3%81%A4%E3%81%84%E3%81%A6/950c187d-6dd0-4ca5-8d6d-35da0d5cbf85',\n",
       "  'content': 'Ask anything\\n\\nTable of Contents\\n\\nインスピレーションと洞察から生成されました 7 ソースから\\n\\n## はじめに\\n\\n LangGraphのノードは、エージェントの状態を受け取り、更新した状態を返す関数として定義されます。\\n ノードの出力は、通常、状態の一部を更新した辞書形式で返されます。\\n ToolNodeは、AIMessageのtool\\\\_callsを実行し、その結果をToolMessageのリストとして返します。\\n ノードの出力型は、状態の更新方法に依存し、TypedDictやPydantic BaseModelで定義されることが多いです。\\n LangGraphでは、ノードの出力をどのように更新するかを定義するためにreducersが使用されます。\\n\\n## LangGraphの基本要素+%E5%9F%BA%E6%9C%AC%E8%A6%81%E7%B4%A0) [...] Graph: エージェントのワークフローをモデル化したもの。\\n State: エージェントの状態を定義し、ノード間で受け渡されるデータ。\\n Node: 各処理を行う関数で、状態を受け取り更新する。\\n Edge: ノード間のつながりを定義し、処理の順序を決定する。\\n Reducers: 状態の各要素をどのように更新するかを定義する。\\n\\n## ToolNodeの詳細+%E8%A9%B3%E7%B4%B0) \\n\\n ToolNodeは、AIMessageのtool\\\\_callsを実行するノード。\\n 複数のtool\\\\_callsがある場合、並行して実行される。\\n 出力は、各tool\\\\_callに対応するToolMessageのリスト。\\n ToolNodeは、StateGraphまたはMessageGraphで使用される。\\n stateは、メッセージのリストを含む必要がある。\\n\\n## Mermaid出力機能'},\n",
       " {'url': 'https://blog.elcamy.com/posts/136913a3',\n",
       "  'content': 'Copy \\n\\n```\\nfrom langgraph.graph import MessagesState\\n\\nclass State(MessagesState):\\n    documents: list[str]\\n```\\n\\n##### Nodes\\n\\n  \\n\\nLangGraphにおいて、Nodesはエージェントの特定の作業を実行するPython関数（同期または非同期）です。以下の図の赤枠で囲まれた部分がノードを表します。\\n\\nImage 5: image block\\n\\nNodesの最初の引数はStateで、オプションの2番目の引数には設定パラメータを含む辞書型変数が渡されます。\\n\\n具体的にはノードは、以下のようにしてグラフに追加されます。\\n\\n Copy \\n\\n```\\nfrom langchain_core.runnables import RunnableConfig\\nfrom langgraph.graph import StateGraph\\n\\nbuilder = StateGraph(dict) [...] このように、LangGraphではノードとエッジを組み合わせて、複雑なエージェントのワークフローを構築できます。各ノードは特定のタスクを実行し、エッジが次に実行するノードを決定します。\\n\\n##### Edges\\n\\n  \\n\\nEdgesは、エージェントの動作を制御し、異なるノード間の通信を定義する重要な要素です。エッジは以下の図の矢印にあたります。\\n\\nImage 6: image block\\n\\nEdgesの種類は以下の通りです。\\n\\n   通常のエッジ：一つのノードから次のノードへ直接移動します。 \\n   条件付きエッジ：次にどのノードに移動するかを決定するための関数を使用します。 \\n   エントリーポイント：ユーザー入力が到着したときに最初に呼び出されるノードです。 \\n   条件付きエントリーポイント：ユーザー入力が到着したときに最初にどのノードを呼び出すかを決定するための関数を使用します。 \\n\\nノードは複数の出力エッジを持つことができ\\n\\n###### 通常のエッジ\\nあるノードから別のノードへ常に移動したい場合は、`add_edge`メソッドを使います。\\n\\n Copy [...] ```\\nfrom langgraph.graph import START\\n\\ngraph.add_edge(START, \"node_a\")\\n```\\n\\n###### ENDノード\\nENDノードは、処理の終わりを示す特別なノードです。このノードは、これ以上続きがないエッジを示します。\\n\\n Copy \\n\\n```\\nfrom langgraph.graph import END\\n\\ngraph.add_edge(\"node_a\", END)\\n```\\n\\n###### ノードの追加とエッジの作成\\nノードをグラフに追加するには`add_node`メソッドを使用します。これにより、関数がノードとして登録され、エッジを使ってノード間の関係が定義されます。\\n\\n Copy \\n\\n```\\nbuilder.add_node(\"my_node\", my_node)\\nbuilder.add_node(\"other_node\", my_other_node)\\ngraph.add_edge(\"my_node\", \"other_node\")\\n```'}]"
      ]
     },
     "execution_count": 14,
     "metadata": {},
     "output_type": "execute_result"
    }
   ],
   "source": [
    "tool.invoke(\"Langgraphのノードとは？\")"
   ]
  },
  {
   "cell_type": "code",
   "execution_count": 15,
   "id": "cad7b06e",
   "metadata": {},
   "outputs": [
    {
     "data": {
      "text/plain": [
       "<langgraph.graph.state.StateGraph at 0x1176a0380>"
      ]
     },
     "execution_count": 15,
     "metadata": {},
     "output_type": "execute_result"
    }
   ],
   "source": [
    "from typing import Annotated\n",
    "from typing_extensions import TypedDict\n",
    "from langgraph.graph import StateGraph\n",
    "from langgraph.graph.message import add_messages\n",
    "\n",
    "# Stateクラスの定義\n",
    "class State(TypedDict):\n",
    "    messages: Annotated[list, add_messages]\n",
    "\n",
    "# グラフのインスタンスを作成\n",
    "graph_builder = StateGraph(State)\n",
    "\n",
    "# 言語モデルの定義\n",
    "llm = ChatOpenAI(model_name=MODEL_NAME)\n",
    "\n",
    "# 変更点：ツール定義の紐づけ\n",
    "llm_with_tools = llm.bind_tools(tools)\n",
    "\n",
    "# チャットボットノードの作成\n",
    "def chatbot(state: State):\n",
    "    return {\"messages\": [llm_with_tools.invoke(state[\"messages\"])]}\n",
    "\n",
    "# グラフにチャットボットノードを追加\n",
    "graph_builder.add_node(\"chatbot\", chatbot)"
   ]
  },
  {
   "cell_type": "code",
   "execution_count": 16,
   "id": "360767d7",
   "metadata": {},
   "outputs": [],
   "source": [
    "from langgraph.prebuilt import ToolNode, tools_condition\n",
    "from langgraph.checkpoint.memory import MemorySaver\n",
    "\n",
    "# ツールノードの作成\n",
    "tool_node = ToolNode(tools)\n",
    "\n",
    "# グラフにツールノードを追加\n",
    "graph_builder.add_node(\"tools\", tool_node)\n",
    "\n",
    "# 条件付エッジの作成\n",
    "graph_builder.add_conditional_edges(\n",
    "    \"chatbot\",\n",
    "    tools_condition, # ツール呼出と判断したらツールノードを呼ぶ\n",
    ")\n",
    "\n",
    "# ツールが呼び出されるたびに、チャットボットに戻って次のステップを決定\n",
    "# ツールからチャットボットへの戻りエッジを作成\n",
    "graph_builder.add_edge(\"tools\", \"chatbot\")\n",
    "\n",
    "# 開始ノードの指定\n",
    "graph_builder.set_entry_point(\"chatbot\")\n",
    "\n",
    "# 記憶を持つ実行可能なステートグラフの作成\n",
    "memory = MemorySaver()\n",
    "graph = graph_builder.compile(checkpointer=memory)"
   ]
  },
  {
   "cell_type": "code",
   "execution_count": 17,
   "id": "c5dc977b",
   "metadata": {},
   "outputs": [
    {
     "name": "stdout",
     "output_type": "stream",
     "text": [
      "こんにちは！\n",
      "こんにちは！今日はどんなことをお手伝いできますか？\n",
      "1足す2は？\n",
      "1足す2は3です。何か他に質問がありますか？\n",
      "1メートル以上の魚は？\n",
      "\n",
      "[{\"url\": \"https://tsurihack.com/8448\", \"content\": \"どの魚も、陸っぱりで狙えて最大全長が1mを超えるものばかり！\\n\\nお住まいの地域にこれからリストアップする魚が生息していたら、狙ってみてはいかがでしょうか。\\n\\n鯉｜もっとも手軽で簡単な大物\\n\\n難易度：★☆☆｜平均70cm、1m超えれば超絶レア\\n魚釣り初心者の方にオススメしたいのは食パンを使ったコイ釣りです！\\n\\n安・近・短で手軽に釣ることができ、ボウズ（釣果ゼロ）で終わってしまうリスクも少ないのがパンコイゲームの魅力ですね。\\n\\n▼食パンを使ったコイの釣り方はこちら！\\n針と餌だけのカンタン仕掛けで巨大魚が釣れる！？“パン鯉”に子供と挑戦してみました2023/04/27釣り好き！まっちゃん\\n\\n針と餌だけのカンタン仕掛けで巨大魚が釣れる！？“パン鯉”に子供と挑戦してみました\\n\\n2023/04/27釣り好き！まっちゃん\\n\\n1mを超えるコイは超絶レアですよ！\\n\\n身近な川魚のコイといえども最大サイズは1ｍを優に超え、コイを専門に狙う釣り人にとってメーター超えの巨鯉は一生に1匹でも良いから釣ってみたい憧れのサイズです。 [...] 最大で1mに迫るような大物を釣り狙う場合、例え身近な魚であっても釣り具の強度や仕掛け、ルアーの種類などをしっかり選ぶ必要があります。\\n\\n『この魚を釣ってみたい！』という確固たる目標を持って挑戦していく過程が大物釣り最大の醍醐味であり、準備や試行錯誤の期間が長い程、目標を手にした瞬間、つまり大物を釣り上げた瞬間の感動と達成感はなんとも言葉に表すことができないものになってきます。\\n\\n全身が震えたり、感情を抑えられず雄たけびやガッツポーズが出ちゃったりする……そんな体験を大人になっても味わえる。それが魚釣りの良い所だと僕は思っています。\\n\\n大物を釣り上げるまでの3ステップをお伝えします\\n\\nどんな大物を釣りたいか決めましょう\\n\\nまずは、自分の目標とする魚を設定しましょう。魚種でも良いですし、この魚の何センチ以上！　とかでも素敵な目標だと思います。\\n\\n他人に認められる魚とか、SNSでイイネをたくさんもらえそうな魚とかでも良いかもしれませんが、大切なのは、“自分が釣ってみたい魚や大きさ”を意識すること。\\n\\n僕はいつも、自分の好奇心と探求心を一番大切にするように心がけています。 [...] 魚の力強さを体感できる\\n\\n大物釣りの魅力のひとつに、魚達の力強さを一本の釣り糸を通して体感できることがあります。\\n\\nとくに1m、10kgを超えるような魚の重量感溢れるファイトで、身体が引っ張られるような感覚を一度味わうと病みつきになってしまいます。\\n\\nもちろん、魚の引きの強度やランディングに至るまでの難易度は魚種によってさまざま。今回の記事では、難易度別に魅力的な大物をご紹介していきます。\\n\\nまずは、僕が思う大物釣りの魅力からお届けします！\\n\\n迫力満点な写真が撮れます\\n\\n釣り上げた魚を抱えて撮る、記念写真も大物釣りの醍醐味のひとつと言えるでしょう。\\n\\n自分なりに苦労したり試行錯誤して釣り上げた大物の写真って、時間が経っても見返したくなるものです。\\n\\n時には魚体が大きすぎて陸に揚げられず、自ら水中に入って写真を撮るなんてこともよくあります。\\n\\n大物を狙っていると、“イッピキの価値に気が付くキッカケになり、釣り上げた魚を大切に扱いたい”と価値観が変わることもありますよ。\\n\\n“目標を持った魚釣りの魅力”をお伝えしたい\"}, {\"url\": \"https://www3.nhk.or.jp/news/special/sci_cul/2023/04/story/deepsea/\", \"content\": \"その正体は「カイコウオオソコエビ」だ。  \\n超深海で生き延びるために食物繊維を分解する酵素を体内に持ち、海底に沈んだ木くずまで食べてしまうという驚きの消化能力を持つ。  \\nランダーに付けたエサがまったく見えないほど密集していた。\\n\\n## 驚異の深海生物登場！水深６０００ー８０００メートルの世界とは\\n\\n今回の調査では有人調査と並行して、ランダーを水深6000メートル、7000メートル、8000メートルに設置した。  \\nカメラが捉えたそれぞれの水深の様子を見ていこう。  \\n  \\nまずは水深6000メートル。  \\n「シンカイヨロイダラ」や「カイコウオオソコエビ」の姿が見える。  \\nゆったりと姿を現したのは体長1メートルを超える巨大な魚・「ソコフクメンイタチウオ」。  \\n光が届かない深海では、生きものたちは水の流れに含まれる、わずかな匂いを感じて集まってきているのだという。\\n\\n水深7000メートル。ここでも奇妙な姿の生物が観察された。  \\n体をクネクネと動かしながら海底を移動していたのはエボシナマコの仲間とみられる生きもの。  \\nこの水深で発見されるのは初めてだという。\"}]\n",
      "1メートル以上の魚にはいくつかの種類があります。以下はその一部です：\n",
      "\n",
      "1. **鯉（コイ）** - 平均70cmですが、1mを超えるものも非常に珍しいです。コイ釣りは初心者にも人気で、特に食パンを餌にする方法が知られています。\n",
      "\n",
      "2. **ソコフクメンイタチウオ** - 深海に生息する魚で、体長は1メートルを超えることがあります。深海の生物調査で観察されることがあります。\n",
      "\n",
      "詳しい情報や釣り方については、こちらのリンクを参考にしてください：[1メートル以上の魚について](https://tsurihack.com/8448) \n",
      "\n",
      "他に知りたいことがあれば教えてください！\n",
      "ありがとうございました!\n"
     ]
    }
   ],
   "source": [
    "# グラフの実行と結果の表示\n",
    "def stream_graph_updates(user_input: str):\n",
    "    events = graph.stream(\n",
    "        {\"messages\": [(\"user\", user_input)]},\n",
    "        {\"configurable\": {\"thread_id\": \"1\"}},\n",
    "        stream_mode=\"values\")\n",
    "    # 結果をストリーミングで得る\n",
    "    for event in events:\n",
    "        print(event[\"messages\"][-1].content, flush=True)\n",
    "\n",
    "# チャットボットのループ\n",
    "while True:\n",
    "    user_input = input(\"質問:\")\n",
    "    if user_input.strip()==\"\":\n",
    "        print(\"ありがとうございました!\")\n",
    "        break\n",
    "    stream_graph_updates(user_input)"
   ]
  }
 ],
 "metadata": {
  "kernelspec": {
   "display_name": ".venv (3.12.10)",
   "language": "python",
   "name": "python3"
  },
  "language_info": {
   "codemirror_mode": {
    "name": "ipython",
    "version": 3
   },
   "file_extension": ".py",
   "mimetype": "text/x-python",
   "name": "python",
   "nbconvert_exporter": "python",
   "pygments_lexer": "ipython3",
   "version": "3.12.10"
  }
 },
 "nbformat": 4,
 "nbformat_minor": 5
}
