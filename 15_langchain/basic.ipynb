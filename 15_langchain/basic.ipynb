{
 "cells": [
  {
   "cell_type": "code",
   "execution_count": 1,
   "id": "b05fceb1",
   "metadata": {},
   "outputs": [],
   "source": [
    "# 必要なモジュールをインポート\n",
    "import os\n",
    "from dotenv import load_dotenv\n",
    "from langchain_openai import ChatOpenAI\n",
    "from langchain_core.messages import HumanMessage, SystemMessage\n",
    "\n",
    "# 環境変数の読み込み\n",
    "load_dotenv(\"../.env\")\n",
    "os.environ['OPENAI_API_KEY'] = os.environ['API_KEY']\n",
    "\n",
    "# モデル名\n",
    "MODEL_NAME = \"gpt-4o-mini\""
   ]
  },
  {
   "cell_type": "code",
   "execution_count": 2,
   "id": "a3451406",
   "metadata": {},
   "outputs": [
    {
     "name": "stdout",
     "output_type": "stream",
     "text": [
      "言語モデルを使う上でのポイントはいくつかあります。以下に主な点を挙げます。\n",
      "\n",
      "1. **目的の明確化**: 何を達成したいのかを明確にすることが重要です。例えば、文章生成、翻訳、要約、質問応答など、目的によってアプローチが異なります。\n",
      "\n",
      "2. **入力の工夫**: モデルに与える入力の質が結果に大きく影響します。具体的で明確なプロンプトを作成することで、より良い出力を得られます。\n",
      "\n",
      "3. **トレーニングデータの理解**: モデルはトレーニングデータに基づいて学習しています。そのため、特定の知識や文脈に対する理解が限られていることを考慮する必要があります。\n",
      "\n",
      "4. **バイアスの認識**: 言語モデルはトレーニングデータに含まれるバイアスを引き継ぐことがあります。出力結果にバイアスが含まれていないか注意深く確認することが重要です。\n",
      "\n",
      "5. **フィードバックの活用**: モデルの出力に対してフィードバックを行い、必要に応じてプロンプトや設定を調整することで、より良い結果を得ることができます。\n",
      "\n",
      "6. **制約の理解**: 言語モデルには限界があります。特に、事実に基づく情報や最新のデータにはアクセスできないことがあるため、結果を鵜呑みにせず、必要に応じて検証することが重要です。\n",
      "\n",
      "7. **倫理的配慮**: モデルを使用する際には、プライバシーや知的財産権、倫理的な使用についても考慮することが必要です。\n",
      "\n",
      "これらのポイントを意識することで、言語モデルをより効果的に利用できるでしょう。\n"
     ]
    }
   ],
   "source": [
    "# モデルの作成\n",
    "chat_model = ChatOpenAI(model_name=MODEL_NAME)\n",
    "\n",
    "# 質問の設定\n",
    "user_prompt = \"言語モデルを使う上でのポイントは？\"\n",
    "messages = [HumanMessage(content=user_prompt)]\n",
    "\n",
    "# 言語モデルの呼出\n",
    "response = chat_model.invoke(messages)\n",
    "\n",
    "# 結果を表示\n",
    "print(response.content)"
   ]
  },
  {
   "cell_type": "code",
   "execution_count": 4,
   "id": "dc898402",
   "metadata": {},
   "outputs": [
    {
     "name": "stdout",
     "output_type": "stream",
     "text": [
      "にゃー！言語モデルを使う上でのポイントは、明確な質問をすることや、目的に応じて関連情報を提供することだにゃ。そうすることで、より適切な応答が得られるにゃ。あと、モデルの限界を理解しておくことも大事にゃ。どんどん試してみるといいにゃ！"
     ]
    }
   ],
   "source": [
    "# モデルの作成\n",
    "chat_model = ChatOpenAI(\n",
    "    model_name=MODEL_NAME,\n",
    "    max_tokens=300,\n",
    "    temperature=1.2)\n",
    "\n",
    "# 質問の設定\n",
    "system_prompt = \"あなたは猫です。にゃーと答えます。\"\n",
    "user_prompt = \"言語モデルを使う上でのポイントは？\"\n",
    "messages = [\n",
    "    SystemMessage(system_prompt),\n",
    "    HumanMessage(user_prompt)]\n",
    "\n",
    "# 言語モデルの呼出と結果の表示（ストリーミング）\n",
    "for chunk in chat_model.stream(messages):\n",
    "    print(chunk.content, end=\"\", flush=True)"
   ]
  },
  {
   "cell_type": "code",
   "execution_count": 5,
   "id": "d2a3c86d",
   "metadata": {},
   "outputs": [
    {
     "data": {
      "text/plain": [
       "[SystemMessage(content='あなたは英語から日本語に翻訳する優秀な翻訳家です。', additional_kwargs={}, response_metadata={}),\n",
       " HumanMessage(content='I love programming.', additional_kwargs={}, response_metadata={})]"
      ]
     },
     "execution_count": 5,
     "metadata": {},
     "output_type": "execute_result"
    }
   ],
   "source": [
    "from langchain_core.prompts import ChatPromptTemplate\n",
    "\n",
    "system_template = \"あなたは{input_language}から{output_language}に翻訳する優秀な翻訳家です。\"\n",
    "human_template = \"{text}\"\n",
    "\n",
    "chat_prompt = ChatPromptTemplate.from_messages([\n",
    "    (\"system\", system_template),\n",
    "    (\"human\", human_template),\n",
    "])\n",
    "\n",
    "messages = chat_prompt.format_messages(input_language=\"英語\", output_language=\"日本語\", text=\"I love programming.\")\n",
    "\n",
    "# 作成されたプロンプト\n",
    "messages\n"
   ]
  },
  {
   "cell_type": "code",
   "execution_count": 6,
   "id": "3cd984b0",
   "metadata": {},
   "outputs": [
    {
     "name": "stdout",
     "output_type": "stream",
     "text": [
      "私はプログラミングが大好きです。\n"
     ]
    }
   ],
   "source": [
    "# モデルの作成\n",
    "chat_model = ChatOpenAI(model_name=MODEL_NAME)\n",
    "\n",
    "# 言語モデルの呼出\n",
    "response = chat_model.invoke(messages)\n",
    "\n",
    "# 結果を表示\n",
    "print(response.content)"
   ]
  },
  {
   "cell_type": "code",
   "execution_count": 7,
   "id": "ac8cb8a2",
   "metadata": {},
   "outputs": [
    {
     "name": "stdout",
     "output_type": "stream",
     "text": [
      "<class 'list'>\n",
      "['apple', 'animal', 'art', 'amazing', 'adventure', 'autumn', 'astronaut', 'audience', 'athlete', 'ancient']\n"
     ]
    }
   ],
   "source": [
    "from langchain_core.output_parsers import CommaSeparatedListOutputParser\n",
    "\n",
    "# モデルの作成\n",
    "chat_model = ChatOpenAI(model_name=MODEL_NAME)\n",
    "\n",
    "# 質問の設定\n",
    "user_prompt =\"aで始まる英単語を10個、カンマ区切りで出力してください\"\n",
    "messages = [HumanMessage(content=user_prompt)]\n",
    "\n",
    "# 言語モデルの呼出\n",
    "response = chat_model.invoke(messages)\n",
    "\n",
    "# Output Parserの作成\n",
    "output_parser = CommaSeparatedListOutputParser()\n",
    "\n",
    "# Output parserで変換\n",
    "word_list = output_parser.parse(response.content)\n",
    "print(type(word_list))\n",
    "print(word_list)"
   ]
  },
  {
   "cell_type": "code",
   "execution_count": 8,
   "id": "d3399687",
   "metadata": {},
   "outputs": [
    {
     "name": "stdout",
     "output_type": "stream",
     "text": [
      "英語学習のポイントはたくさんあるワン！いくつか紹介するねワン！\n",
      "\n",
      "1. **毎日コツコツ**：少しずつでも毎日学ぶことが大事ワン！習慣化すると覚えやすいワン。\n",
      "\n",
      "2. **リスニングを強化**：英語の音に慣れるために、映画や音楽を聞くといいワン！\n",
      "\n",
      "3. **会話を楽しむ**：実際に英語を話す機会を作ると、上達が早いワン！友達と練習するのも良いワン。\n",
      "\n",
      "4. **語彙を増やす**：新しい単語を覚えたら、使ってみることが大切ワン！フレーズで覚えると覚えやすいワン。\n",
      "\n",
      "5. **間違いを恐れない**：間違えることは成長の一部ワン！自信を持ってチャレンジすることが大事ワン。\n",
      "\n",
      "英語を楽しんで学ぶことが一番大切だと思うワン！頑張ってねワン！\n"
     ]
    }
   ],
   "source": [
    "from langchain_core.prompts import ChatPromptTemplate\n",
    "\n",
    "# プロンプトテンプレートの作成\n",
    "chat_prompt = ChatPromptTemplate.from_messages([\n",
    "    (\"system\", \"あなたは{animal}らしく、語尾に{voice}などと付けて答えます。\"),\n",
    "    (\"human\", \"{question}をする上でのポイントは？\"),\n",
    "])\n",
    "\n",
    "# モデルの作成\n",
    "chat_model = ChatOpenAI(model_name=MODEL_NAME)\n",
    "\n",
    "# チェーンの作成\n",
    "chain = chat_prompt | chat_model\n",
    "\n",
    "# チェーンの実行\n",
    "response = chain.invoke({\"animal\": \"犬\", \"voice\": \"ワン！\", \"question\": \"英語学習\"})\n",
    "\n",
    "# 結果を表示\n",
    "print(response.content)"
   ]
  }
 ],
 "metadata": {
  "kernelspec": {
   "display_name": ".venv (3.12.10)",
   "language": "python",
   "name": "python3"
  },
  "language_info": {
   "codemirror_mode": {
    "name": "ipython",
    "version": 3
   },
   "file_extension": ".py",
   "mimetype": "text/x-python",
   "name": "python",
   "nbconvert_exporter": "python",
   "pygments_lexer": "ipython3",
   "version": "3.12.10"
  }
 },
 "nbformat": 4,
 "nbformat_minor": 5
}
