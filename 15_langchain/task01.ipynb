{
 "cells": [
  {
   "cell_type": "code",
   "execution_count": 3,
   "id": "6b8107c6",
   "metadata": {},
   "outputs": [
    {
     "name": "stdout",
     "output_type": "stream",
     "text": [
      "こんにちは\n",
      "こんにちは！今日はどんなことをお手伝いできますか？\n",
      "今日の横浜市の天気は？\n",
      "\n",
      "[{\"url\": \"https://tenki.jp/forecast/3/17/4610/14100/10days.html\", \"content\": \"éæ°´é\\n    :   2㎜ 0㎜ 4㎜ 12㎜\\n\\n    æ°æ¸©\\n\\n    æ¹¿åº¦\\n    :   80% 78% 65% 74% 81%\\n\\n    é¢¨\\n    :   3m/s\\n\\n        3m/s\\n\\n        4m/s\\n\\n        5m/s\\n\\n        7m/s\\n\\næ¥ä» å¤©æ° æ°æ¸© éæ°´ç¢ºç ä¿¡é ¼åº¦\\n:   10æ03æ¥(é)\\n\\n    ææãé¨\\n\\n    23℃19℃\\n\\n    80%\\n\\n    C\\n:   10æ04æ¥(å)\\n\\n    æ\\n\\n    24℃19℃\\n\\n    40%\\n\\n    E\\n:   10æ05æ¥(æ¥)\\n\\n    ææãé¨\\n\\n    24℃19℃\\n\\n    80%\\n\\n    C\\n\\nAãEã¯å¤©æ°äºå ±ã®ä¿¡é ¼åº¦ã§ã\\n\\nå¤©æ°äºå ±ã®ä¿¡é ¼åº¦ã®è¦æ¹ [...] æ¥ã®åº/å¥\\n    :   æ¥ã®åºï½05:35\\n\\n        æ¥ã®å¥ï½17:27\\n\\n    æå»\\n    :   00 06 12 18 24\\n\\n    å¤©æ°\\n\\n    éæ°´ç¢ºç\\n    :   30% 30% 30% 30%\\n\\n    éæ°´é\\n    :   0㎜ 0㎜ 0㎜ 0㎜\\n\\n    æ°æ¸©\\n\\n    æ¹¿åº¦\\n    :   65% 65% 52% 64% 78%\\n\\n    é¢¨\\n    :   4m/s\\n\\n        3m/s\\n\\n        4m/s\\n\\n        3m/s\\n\\n        2m/s\\n:   10æ01æ¥(æ°´)\\n\\n    ææãé¨\\n\\n    25℃21℃\\n\\n    90%\\n\\n    56mm\\n\\n    æ¥ã®åº/å¥\\n    :   æ¥ã®åºï½05:36\\n\\n        æ¥ã®å¥ï½17:26 [...] æ¥ã®åº/å¥\\n    :   æ¥ã®åºï½05:31\\n\\n        æ¥ã®å¥ï½17:34\\n\\n    æå»\\n    :   00 06 12 18 24\\n\\n    å¤©æ°\\n\\n    éæ°´ç¢ºç\\n    :   0% 0% 0% 10%\\n\\n    éæ°´é\\n    :   0㎜ 0㎜ 0㎜ 0㎜\\n\\n    æ°æ¸©\\n\\n    æ¹¿åº¦\\n    :   71% 76% 52% 63% 74%\\n\\n    é¢¨\\n    :   2m/s\\n\\n        2m/s\\n\\n        3m/s\\n\\n        2m/s\\n\\n        1m/s\\n:   09æ26æ¥(é)\\n\\n    æ´ã®ã¡æ\\n\\n    31℃23℃\\n\\n    30%\\n\\n    0mm\\n\\n    æ¥ã®åº/å¥\\n    :   æ¥ã®åºï½05:32\\n\\n        æ¥ã®å¥ï½17:33\\n\\n    æå»\\n    :   00 06 12 18 24\"}, {\"url\": \"https://tenki.jp/forecast/3/17/4610/14100/\", \"content\": \"|  |  |  |  |  |  |  |  |  |  |\\n ---  ---  ---  ---  --- |\\n| 日付 | 08月13日  (水) | 08月14日  (木) | 08月15日  (金) | 08月16日  (土) | 08月17日  (日) | 08月18日  (月) | 08月19日  (火) | 08月20日  (水) | 08月21日  (木) |\\n| 天気 | 曇 | 曇時々晴 | 晴時々曇 | 曇時々晴 | 曇時々雨 | 曇 | 晴 | 晴時々曇 | 晴時々雨 |\\n| 気温 (℃) | 33  27 | 32  25 | 33  25 | 33  26 | 34  26 | 35  27 | 35  27 | 35  27 | 35  27 |\\n| 降水 確率 | 40% | 30% | 20% | 30% | 50% | 40% | 10% | 20% | 60% |\\n\\n2週間先までの天気を見る\\n\\n### 気象予報士のポイント解説(日直予報士) [...] tenki.jpトップ｜\\nサイトマップ｜\\nヘルプ\\n新規登録ログイン\\n\\n# tenki.jp\\n\\n 横浜市29/27ｘ;)直前に見た情報が  \\n  ここに保存されます  \\n  （ログイン不要）\\n\\n九州地方の大雨 最新情報警戒\\n\\n## 横浜市の天気\\n\\n横浜市の注意報：\\n:   大雨\\n:   強風\\n:   波浪\\n:   雷\\n\\n 今日・明日の天気\\n 3時間天気\\n 1時間天気\\n 2週間天気\\n\\n### 今日 08月11日(月)\\n\\n夏日\\n\\n最高\\n:   29℃\\n:   [+1]\\n\\n最低\\n:   27℃\\n:   [+1]\\n\\n| 時間 | 00-06 | 06-12 | 12-18 | 18-24 |\\n ---  --- \\n| 降水確率  ---  40% |\\n| 風 | 南西の風やや強く | | | |\\n| 波 | 2.5m | | | |\\n\\n### 明日 08月12日(火)\\n\\n曇一時雨\\n\\n真夏日\\n\\n最高\\n:   32℃\\n:   [+3]\\n\\n最低\\n:   28℃\\n:   [+1]\"}]\n",
      "今日の横浜市の天気は、曇り時々晴れの予報で、最高気温は29℃、最低気温は27℃です。降水確率は40%となっています。風は南西からやや強く吹いています。\n",
      "\n",
      "詳細な天気情報は[こちら](https://tenki.jp/forecast/3/17/4610/14100/)でご確認いただけます。\n",
      "このチャットボットのソースコードでおかしいところはあるかな？\n",
      "具体的にどのソースコードを指しているのか、またはどの部分に疑問を持っているのかを教えていただければ、できる限りお手伝いします。一般的な質問や特定の問題についてもお答えできますので、詳細を教えてください。\n",
      "そういう感じなのね\n",
      "はい、その通りです。具体的な質問や確認したいことがあれば、どんなことでもお知らせください。できる限りお手伝いします！\n",
      "ありがとう\n",
      "どういたしまして！何か他にお手伝いできることがあれば、いつでも言ってくださいね。\n",
      "ありがとうございました!\n"
     ]
    }
   ],
   "source": [
    "# 必要なモジュールをインポート\n",
    "import os\n",
    "from dotenv import load_dotenv\n",
    "from langchain_openai import ChatOpenAI\n",
    "from typing import Annotated\n",
    "from typing_extensions import TypedDict\n",
    "from langchain_community.tools.tavily_search import TavilySearchResults\n",
    "from langgraph.graph import StateGraph\n",
    "from langgraph.graph.message import add_messages\n",
    "from langgraph.prebuilt import ToolNode, tools_condition\n",
    "from langgraph.checkpoint.memory import MemorySaver\n",
    "\n",
    "# ===== Stateクラスの定義 =====\n",
    "class State(TypedDict):\n",
    "    messages: Annotated[list, add_messages]\n",
    "\n",
    "# ===== グラフの構築 =====\n",
    "def build_graph(model_name):\n",
    "  # ソースコードを記述\n",
    "  # LLMを定義する\n",
    "  llm = ChatOpenAI(model=model_name)\n",
    "\n",
    "  # ツールを定義する（Tavilyの定義）\n",
    "  tool = TavilySearchResults(max_results=2)\n",
    "  tools = [tool]\n",
    "  #LLMとツールを紐づける\n",
    "  llm_with_tools = llm.bind_tools(tools)\n",
    "\n",
    "  # チャットボットの処理を定義する\n",
    "  def chatbot(state: State):\n",
    "    ai_msg = llm_with_tools.invoke(state[\"messages\"])\n",
    "    return {\"messages\": [ai_msg]}\n",
    "\n",
    "  # 会話の流れを構築してチャットボットのノードを登録する\n",
    "  graph_builder = StateGraph(State)\n",
    "  graph_builder.add_node(\"chatbot\", chatbot)\n",
    "\n",
    "  # ツール（検索）を実行するノードを登録する\n",
    "  tool_node = ToolNode(tools)\n",
    "  graph_builder.add_node(\"tools\", tool_node)\n",
    "\n",
    "  # 分岐の条件付けをする\n",
    "  graph_builder.add_conditional_edges(\"chatbot\", tools_condition)\n",
    "\n",
    "  # ツール実行後に、ツールからチャットボットへ戻す\n",
    "  graph_builder.add_edge(\"tools\", \"chatbot\")\n",
    "\n",
    "  # 開始ノードを指定する\n",
    "  graph_builder.set_entry_point(\"chatbot\")\n",
    "\n",
    "  # 会話の履歴を持たせる\n",
    "  memory = MemorySaver()\n",
    "  return graph_builder.compile(checkpointer=memory)\n",
    "\n",
    "# ===== グラフ実行関数 =====\n",
    "def stream_graph_updates(graph: StateGraph, user_input: str):\n",
    "  # ソースコードを記述\n",
    "  # graph.stream(...) にユーザーの発言を渡すと、会話の各ステップごとに結果が返ってくるようにする\n",
    "  events = graph.stream(\n",
    "    {\"messages\": [(\"user\", user_input)]}, #今回のユーザー発言\n",
    "    {\"configurable\": {\"thread_id\": \"1\"}}, #会話IDが同じIDなら履歴を引き継ぎされる\n",
    "    stream_mode=\"values\" # メッセージ(values）を順に受け取る\n",
    "  )\n",
    "  for event in events:\n",
    "    print(event[\"messages\"][-1].content, flush=True) #順番に表示させる\n",
    "\n",
    "# ===== メイン実行ロジック =====\n",
    "# 環境変数の読み込み\n",
    "load_dotenv(\"../.env\")\n",
    "os.environ['OPENAI_API_KEY'] = os.environ['API_KEY']\n",
    "\n",
    "# モデル名\n",
    "MODEL_NAME = \"gpt-4o-mini\"\n",
    "\n",
    "# グラフの作成\n",
    "# ソースコードを記述\n",
    "graph = build_graph(MODEL_NAME)\n",
    "\n",
    "# メインループ\n",
    "# ソースコードを記述\n",
    "while True:\n",
    "  user_input = input(\"質問: \")\n",
    "  if user_input.strip() == \"\":\n",
    "    print(\"ありがとうございました!\")\n",
    "    break\n",
    "  stream_graph_updates(graph, user_input)"
   ]
  },
  {
   "cell_type": "code",
   "execution_count": null,
   "id": "247dea1e",
   "metadata": {},
   "outputs": [],
   "source": []
  }
 ],
 "metadata": {
  "kernelspec": {
   "display_name": ".venv (3.12.10)",
   "language": "python",
   "name": "python3"
  },
  "language_info": {
   "codemirror_mode": {
    "name": "ipython",
    "version": 3
   },
   "file_extension": ".py",
   "mimetype": "text/x-python",
   "name": "python",
   "nbconvert_exporter": "python",
   "pygments_lexer": "ipython3",
   "version": "3.12.10"
  }
 },
 "nbformat": 4,
 "nbformat_minor": 5
}
